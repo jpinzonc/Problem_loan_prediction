{
 "cells": [
  {
   "cell_type": "markdown",
   "metadata": {},
   "source": [
    "# Problem loan prediction 2017 - Lending Club\n",
    "## Code\n",
    "### For more information about the results of this project, check the report.pdf file"
   ]
  },
  {
   "cell_type": "code",
   "execution_count": 2,
   "metadata": {
    "collapsed": true
   },
   "outputs": [],
   "source": [
    "import pandas as pd\n"
   ]
  },
  {
   "cell_type": "markdown",
   "metadata": {},
   "source": [
    "## Uploading the data\n",
    "\n",
    "The data was dowloaded from the Lending Club website in two files, one for each quarter.\n",
    "\n",
    "Uploading each file separately and then merging it into a single pandas data frame."
   ]
  },
  {
   "cell_type": "code",
   "execution_count": 11,
   "metadata": {},
   "outputs": [],
   "source": [
    "# Uploading\n",
    "\n",
    "data_1Q = pd.read_csv('LoanStats_2017Q1.csv', skiprows=1, low_memory=False)\n",
    "data_2Q = pd.read_csv('LoanStats3a.csv', skiprows=1, low_memory=False)\n",
    "\n",
    "# Merging\n",
    "\n",
    "data = pd.concat([data_1Q, data_2Q])"
   ]
  },
  {
   "cell_type": "code",
   "execution_count": null,
   "metadata": {
    "collapsed": true
   },
   "outputs": [],
   "source": []
  },
  {
   "cell_type": "code",
   "execution_count": null,
   "metadata": {
    "collapsed": true
   },
   "outputs": [],
   "source": [
    "data.tail()"
   ]
  },
  {
   "cell_type": "code",
   "execution_count": null,
   "metadata": {
    "collapsed": true
   },
   "outputs": [],
   "source": []
  },
  {
   "cell_type": "code",
   "execution_count": 3,
   "metadata": {},
   "outputs": [
    {
     "name": "stderr",
     "output_type": "stream",
     "text": [
      "/Users/jpinzon/anaconda/lib/python3.6/site-packages/IPython/core/interactiveshell.py:2698: DtypeWarning: Columns (0,112,139,140,141) have mixed types. Specify dtype option on import or set low_memory=False.\n",
      "  interactivity=interactivity, compiler=compiler, result=result)\n",
      "/Users/jpinzon/anaconda/lib/python3.6/site-packages/IPython/core/interactiveshell.py:2698: DtypeWarning: Columns (0,47) have mixed types. Specify dtype option on import or set low_memory=False.\n",
      "  interactivity=interactivity, compiler=compiler, result=result)\n",
      "/Users/jpinzon/anaconda/lib/python3.6/site-packages/IPython/core/interactiveshell.py:2698: DtypeWarning: Columns (19,47,55,112,123,124,125,128,129,130,133,139,140,141) have mixed types. Specify dtype option on import or set low_memory=False.\n",
      "  interactivity=interactivity, compiler=compiler, result=result)\n"
     ]
    },
    {
     "ename": "NameError",
     "evalue": "name 'a' is not defined",
     "output_type": "error",
     "traceback": [
      "\u001b[0;31m---------------------------------------------------------------------------\u001b[0m",
      "\u001b[0;31mNameError\u001b[0m                                 Traceback (most recent call last)",
      "\u001b[0;32m<ipython-input-3-93c157e8c575>\u001b[0m in \u001b[0;36m<module>\u001b[0;34m()\u001b[0m\n\u001b[1;32m     20\u001b[0m \u001b[0;34m\u001b[0m\u001b[0m\n\u001b[1;32m     21\u001b[0m \u001b[0;34m\u001b[0m\u001b[0m\n\u001b[0;32m---> 22\u001b[0;31m \u001b[0mpd\u001b[0m\u001b[0;34m.\u001b[0m\u001b[0mDataFrame\u001b[0m\u001b[0;34m(\u001b[0m\u001b[0ma\u001b[0m\u001b[0;34m.\u001b[0m\u001b[0mcolumns\u001b[0m\u001b[0;34m)\u001b[0m\u001b[0;34m\u001b[0m\u001b[0m\n\u001b[0m\u001b[1;32m     23\u001b[0m \u001b[0;34m\u001b[0m\u001b[0m\n\u001b[1;32m     24\u001b[0m \u001b[0;34m\u001b[0m\u001b[0m\n",
      "\u001b[0;31mNameError\u001b[0m: name 'a' is not defined"
     ]
    }
   ],
   "source": [
    "\n",
    "\n",
    "\n",
    "# Merging the quaters into one \n",
    "dataframes = [data_1Q, data_2Q]\n",
    "data = pd.concat([data_1Q, data_2Q])\n",
    "#removing last two columns that had non relevant information\n",
    "data = data.sort_values(by = 'id',na_position = 'first', ascending=True)\n",
    "data.tail(15)\n",
    "data.drop(data.tail(5).index,inplace=True)\n",
    "data.shape\n",
    "data.id.unique()\n",
    "data.to_csv('loans_2017.csv', index=False)\n",
    "\n",
    "data_2017 = pd.read_csv('loans_2017.csv')\n",
    "\n",
    "\n",
    "\n",
    "pd.DataFrame(a.columns)\n",
    "\n",
    "\n",
    "a = data_2017.dropna(axis=1, how='all')\n",
    "a.shape\n",
    "a.loan_status.unique()\n",
    "# Removing fully paid loans\n",
    "a = a[a.loan_status.str.contains('Current')==False]\n",
    "a.loan_status=a.loan_status.str.replace(r'(^.*Paid$)', \"Fully Paid\")\n",
    "a.loan_status=a.loan_status.str.replace(r'(^.*Charged Off$)', \"Charged Off\")\n",
    "\n",
    "a.settlement_amount.unique()\n",
    "usef_cols = pd.DataFrame(a.isnull().sum().sort_values()[a.isnull().sum().sort_values()<20000])\n",
    "usef_cols.reset_index(drop = False, inplace=True)\n",
    "usef_cols.columns = (['col_name','num_NaN'])\n",
    "new_data =pd.DataFrame()\n",
    "\n",
    "for i in range(0,len(usef_cols)):#(usef_cols.col_name):\n",
    "    print(i)\n",
    "    j = i+1\n",
    "    df = a.iloc[:,i:j]\n",
    "    print(df.head)\n",
    "    new_data = pd.concat([new_data, df], axis=1)\n",
    "    \n",
    "new_data.head() \n",
    "\n",
    "new_data = pd.DataFrame(new_data.isnull().sum().sort_values()[a.isnull().sum().sort_values()<200])\n",
    "a.total_acc\n",
    "\n",
    "a[bbb]\n",
    "a[usef_cols.col_name[0]]\n",
    "\n",
    "type(usef_cols.col_name[0])"
   ]
  },
  {
   "cell_type": "code",
   "execution_count": null,
   "metadata": {
    "collapsed": true
   },
   "outputs": [],
   "source": []
  },
  {
   "cell_type": "code",
   "execution_count": null,
   "metadata": {
    "collapsed": true
   },
   "outputs": [],
   "source": []
  },
  {
   "cell_type": "code",
   "execution_count": null,
   "metadata": {
    "collapsed": true
   },
   "outputs": [],
   "source": []
  },
  {
   "cell_type": "code",
   "execution_count": null,
   "metadata": {
    "collapsed": true
   },
   "outputs": [],
   "source": []
  },
  {
   "cell_type": "code",
   "execution_count": null,
   "metadata": {
    "collapsed": true
   },
   "outputs": [],
   "source": []
  },
  {
   "cell_type": "code",
   "execution_count": null,
   "metadata": {
    "collapsed": true
   },
   "outputs": [],
   "source": []
  },
  {
   "cell_type": "code",
   "execution_count": null,
   "metadata": {
    "collapsed": true
   },
   "outputs": [],
   "source": []
  },
  {
   "cell_type": "code",
   "execution_count": null,
   "metadata": {
    "collapsed": true
   },
   "outputs": [],
   "source": []
  },
  {
   "cell_type": "code",
   "execution_count": null,
   "metadata": {
    "collapsed": true
   },
   "outputs": [],
   "source": []
  }
 ],
 "metadata": {
  "kernelspec": {
   "display_name": "Python 3",
   "language": "python",
   "name": "python3"
  },
  "language_info": {
   "codemirror_mode": {
    "name": "ipython",
    "version": 3
   },
   "file_extension": ".py",
   "mimetype": "text/x-python",
   "name": "python",
   "nbconvert_exporter": "python",
   "pygments_lexer": "ipython3",
   "version": "3.6.2"
  }
 },
 "nbformat": 4,
 "nbformat_minor": 2
}
