{
 "cells": [
  {
   "cell_type": "markdown",
   "metadata": {},
   "source": [
    "# Problem loan prediction 2017 - Lending Club\n",
    "## Code\n",
    "### For more information about the results of this project, check the report.pdf file"
   ]
  },
  {
   "cell_type": "code",
   "execution_count": null,
   "metadata": {
    "collapsed": true
   },
   "outputs": [],
   "source": [
    "import pandas as pd\n",
    "#import datetime as dt"
   ]
  },
  {
   "cell_type": "markdown",
   "metadata": {},
   "source": [
    "## Uploading the data\n",
    "\n",
    "The data was dowloaded from the Lending Club website in two files, one for each quarter.\n",
    "\n",
    "Uploading each file separately and then merging it into a single pandas data frame."
   ]
  },
  {
   "cell_type": "code",
   "execution_count": null,
   "metadata": {
    "collapsed": true
   },
   "outputs": [],
   "source": [
    "# Uploading data into two dataframes\n",
    "\n",
    "data_1Q = pd.read_csv('LoanStats_2017Q1.csv', skiprows=1, low_memory=False)\n",
    "data_2Q = pd.read_csv('LoanStats3a.csv', skiprows=1, low_memory=False)\n",
    "\n",
    "# Merging the dataframes\n",
    "\n",
    "data_loans = pd.concat([data_1Q, data_2Q])"
   ]
  },
  {
   "cell_type": "code",
   "execution_count": null,
   "metadata": {},
   "outputs": [],
   "source": [
    "print (data_loans.shape)\n",
    "print(\"HEAD\")\n",
    "display(data_loans.head())\n",
    "print(\"\\n TAIL\")\n",
    "display(data_loans.tail())"
   ]
  },
  {
   "cell_type": "markdown",
   "metadata": {},
   "source": [
    "There are a few data descriptors at the end of the files than need to be remove. "
   ]
  },
  {
   "cell_type": "code",
   "execution_count": null,
   "metadata": {},
   "outputs": [],
   "source": [
    "data_loans = data_loans.sort_values(by = 'id',na_position = 'first', ascending=True)\n",
    "display(data_loans.tail(10))"
   ]
  },
  {
   "cell_type": "code",
   "execution_count": null,
   "metadata": {},
   "outputs": [],
   "source": [
    "print ('The data frame has %d rows (loans) with %d columns' % (data_loans.shape[0], data_loans.shape[1]))\n",
    "data_loans.drop(data_loans.tail(5).index,inplace=True)\n",
    "display(data_loans.tail(5))"
   ]
  },
  {
   "cell_type": "markdown",
   "metadata": {},
   "source": [
    "Remove the columns with only NaN and or with large number of NaN"
   ]
  },
  {
   "cell_type": "code",
   "execution_count": null,
   "metadata": {
    "collapsed": true
   },
   "outputs": [],
   "source": [
    "# Create df with number of NaN on each column\n",
    "use_col = pd.DataFrame(data_loans.isnull().sum().sort_values())\n",
    "use_col.reset_index(drop = False, inplace=True)\n",
    "use_col.columns = (['col_name','num_NaN'])\n",
    "display(use_col)"
   ]
  },
  {
   "cell_type": "code",
   "execution_count": null,
   "metadata": {},
   "outputs": [],
   "source": [
    "pd.DataFrame(data_loans.isnull().sum().sort_values()[data_loans.isnull().sum().sort_values()<10])"
   ]
  },
  {
   "cell_type": "code",
   "execution_count": null,
   "metadata": {},
   "outputs": [],
   "source": [
    "data_loans = data_loans.dropna(axis=1, how='all')\n",
    "data_loans.shape"
   ]
  },
  {
   "cell_type": "code",
   "execution_count": null,
   "metadata": {
    "collapsed": true
   },
   "outputs": [],
   "source": [
    "def df_col_low_nan(df_data, min_nan): \n",
    "    # Returns a df with columns with less nan than min_nan\n",
    "    use_col = pd.DataFrame(df_data.isnull().sum().sort_values()[df_data.isnull().sum().sort_values()<min_nan])\n",
    "    use_col.reset_index(drop = False, inplace=True)\n",
    "    use_col.columns = (['col_name','num_NaN'])\n",
    "    new_data = pd.DataFrame()\n",
    "    for i in range(0,len(use_col.col_name)):\n",
    "        df = df_data[use_col.col_name[i]]\n",
    "        new_data = pd.concat([new_data, df], axis=1)\n",
    "    return new_data\n"
   ]
  },
  {
   "cell_type": "code",
   "execution_count": null,
   "metadata": {},
   "outputs": [],
   "source": [
    "n_loan_df = df_col_low_nan(data_loans, 10)\n",
    "n_loan_df.shape"
   ]
  },
  {
   "cell_type": "code",
   "execution_count": null,
   "metadata": {
    "collapsed": true
   },
   "outputs": [],
   "source": [
    "#data_loans\n",
    "#data_2017 = pd.read_csv('loans_2017.csv')\n",
    "n_loan_df.to_csv('loans_2017.csv', index=False)"
   ]
  },
  {
   "cell_type": "code",
   "execution_count": null,
   "metadata": {
    "collapsed": true
   },
   "outputs": [],
   "source": [
    "n_loan_df = pd.read_csv('loans_2017.csv')"
   ]
  },
  {
   "cell_type": "markdown",
   "metadata": {},
   "source": [
    "## Cleaning the target feature (loan_status)\n",
    "\n",
    "For the purpose of this project, problem loans will does that are not paid, "
   ]
  },
  {
   "cell_type": "code",
   "execution_count": null,
   "metadata": {},
   "outputs": [],
   "source": [
    "n_loan_df.loan_status.unique()"
   ]
  },
  {
   "cell_type": "code",
   "execution_count": null,
   "metadata": {},
   "outputs": [],
   "source": [
    "# Removing fully paid loans\n",
    "n_loan_df = n_loan_df[n_loan_df.loan_status.str.contains('Current')==False]\n",
    "n_loan_df.loan_status=n_loan_df.loan_status.str.replace(r'(^.*Paid$)', \"Fully Paid\")\n",
    "n_loan_df.loan_status=n_loan_df.loan_status.str.replace(r'(^.*Charged Off$)', \"Charged Off\")\n",
    "n_loan_df.loan_status = n_loan_df.loan_status.str.replace(r'(^Late.*$)', \"Late\")\n",
    "\n",
    "n_loan_df.loan_status.unique()"
   ]
  },
  {
   "cell_type": "code",
   "execution_count": null,
   "metadata": {},
   "outputs": [],
   "source": [
    "n_loan_df.describe()"
   ]
  },
  {
   "cell_type": "code",
   "execution_count": null,
   "metadata": {},
   "outputs": [],
   "source": [
    "n_loan_df.dtypes.sort_values()"
   ]
  },
  {
   "cell_type": "code",
   "execution_count": null,
   "metadata": {},
   "outputs": [],
   "source": [
    "def object_columns(df):\n",
    "    non_num_cols = df.dtypes[df.dtypes == 'object']\n",
    "    return non_num_cols\n",
    "object_columns(n_loan_df)"
   ]
  },
  {
   "cell_type": "code",
   "execution_count": null,
   "metadata": {},
   "outputs": [],
   "source": [
    "def object_checker (df1, df2, num):\n",
    "    # df1 dataframe whit the columns\n",
    "    # df2 dataframe with colum names\n",
    "    for col in range(0,len(df2)):\n",
    "        col = df2.index[col]\n",
    "        values = df1[col].unique()\n",
    "        if len(values) > num:\n",
    "           print(\"\\n\", col, \"\\n\",len(values),\"\\n\" ,values)\n",
    "        #print (len(values))\n",
    "        #print(\"\\n\", col, \"\\n\",len(values),\"\\n\" ,values)\n",
    "object_checker(n_loan_df, object_columns(n_loan_df), 10)"
   ]
  },
  {
   "cell_type": "code",
   "execution_count": null,
   "metadata": {},
   "outputs": [],
   "source": [
    "# Converting int_rate to number\n",
    "n_loan_df.int_rate = n_loan_df.int_rate.str.replace('%', \" \").astype(float)\n",
    "\n",
    "# Dropping zip_code as there is a state column \n",
    "n_loan_df = n_loan_df.drop([\"zip_code\"], axis=1)\n",
    "\n",
    "# Removing sub_grade\n",
    "n_loan_df = n_loan_df.drop([\"sub_grade\"], axis=1)\n",
    "\n",
    "# Removing 2110 with n/a in emp_length\n",
    "n_loan_df = n_loan_df[n_loan_df.emp_length.str.contains('n/a')==False]\n",
    "\n",
    "# Converting emp_length to number\n",
    "# less than one year is now 0\n",
    "n_loan_df.emp_length = n_loan_df.emp_length.str.replace(r'( years)|( year)|(\\+ years)', \"\").str.replace('< 1','0').astype(float)\n",
    "\n",
    "# Converting date data to number\n",
    "# issue_d is now time since issued\n",
    "n_loan_df.issue_d = ((max(pd.to_datetime(n_loan_df['issue_d'])) - pd.to_datetime(n_loan_df['issue_d'])).dt.days/365).astype(int)\n",
    "\n",
    "# last_credit_pull_d is now time since last credit check\n",
    "#import datetime as dt\n",
    "n_loan_df.last_credit_pull_d = (max(pd.to_datetime(n_loan_df['last_credit_pull_d'])) - pd.to_datetime(n_loan_df['last_credit_pull_d'])).dt.days/365\n",
    "n_loan_df.last_credit_pull_d = n_loan_df[n_loan_df.last_credit_pull_d.isnull() == False]\n"
   ]
  },
  {
   "cell_type": "code",
   "execution_count": null,
   "metadata": {},
   "outputs": [],
   "source": [
    "object_checker(n_loan_df, object_columns(n_loan_df), 0)"
   ]
  },
  {
   "cell_type": "code",
   "execution_count": null,
   "metadata": {},
   "outputs": [],
   "source": [
    "n_loan_df.dtypes.sort_values()"
   ]
  },
  {
   "cell_type": "code",
   "execution_count": null,
   "metadata": {},
   "outputs": [],
   "source": [
    "#n_loan_df.last_credit_pull_d.sort_values()\n",
    "n_loan_df[n_loan_df.last_credit_pull_d.isnull() == True]"
   ]
  },
  {
   "cell_type": "code",
   "execution_count": null,
   "metadata": {},
   "outputs": [],
   "source": [
    "len(n_loan_df)"
   ]
  },
  {
   "cell_type": "code",
   "execution_count": null,
   "metadata": {},
   "outputs": [],
   "source": []
  },
  {
   "cell_type": "code",
   "execution_count": null,
   "metadata": {},
   "outputs": [],
   "source": [
    "from dateutil import relativedelta\n",
    "\n",
    "relativedelta.relativedelta( pd.to_datetime(n_loan_df['issue_d']), max(pd.to_datetime(n_loan_df['issue_d'])) )"
   ]
  },
  {
   "cell_type": "code",
   "execution_count": null,
   "metadata": {},
   "outputs": [],
   "source": [
    "n_loan_df.issue_d = ((max(pd.to_datetime(n_loan_df['issue_d'])) - pd.to_datetime(n_loan_df['issue_d'])).dt.days/365).astype(int)\n",
    "#.astype('timedelta64[h]')\n"
   ]
  },
  {
   "cell_type": "code",
   "execution_count": null,
   "metadata": {},
   "outputs": [],
   "source": [
    "n_loan_df['issue_d']"
   ]
  },
  {
   "cell_type": "code",
   "execution_count": null,
   "metadata": {},
   "outputs": [],
   "source": []
  },
  {
   "cell_type": "code",
   "execution_count": null,
   "metadata": {},
   "outputs": [],
   "source": [
    "type(df[:0])"
   ]
  },
  {
   "cell_type": "code",
   "execution_count": null,
   "metadata": {},
   "outputs": [],
   "source": [
    "n_loan_df.last_credit_pull_d = n_loan_df[n_loan_df.last_credit_pull_d.isnull()==False]"
   ]
  },
  {
   "cell_type": "code",
   "execution_count": null,
   "metadata": {},
   "outputs": [],
   "source": [
    "\n"
   ]
  },
  {
   "cell_type": "markdown",
   "metadata": {},
   "source": [
    "# "
   ]
  }
 ],
 "metadata": {
  "kernelspec": {
   "display_name": "Python 3",
   "language": "python",
   "name": "python3"
  },
  "language_info": {
   "codemirror_mode": {
    "name": "ipython",
    "version": 3
   },
   "file_extension": ".py",
   "mimetype": "text/x-python",
   "name": "python",
   "nbconvert_exporter": "python",
   "pygments_lexer": "ipython3",
   "version": "3.6.2"
  }
 },
 "nbformat": 4,
 "nbformat_minor": 2
}
