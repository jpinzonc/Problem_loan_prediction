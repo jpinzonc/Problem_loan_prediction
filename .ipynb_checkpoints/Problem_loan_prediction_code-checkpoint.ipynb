{
 "cells": [
  {
   "cell_type": "markdown",
   "metadata": {},
   "source": [
    "# Problem loan prediction 2017 - Lending Club\n",
    "## Code\n",
    "### For more information about the results of this project, check the report.pdf file"
   ]
  },
  {
   "cell_type": "code",
   "execution_count": 1,
   "metadata": {
    "collapsed": true
   },
   "outputs": [],
   "source": [
    "import pandas as pd\n",
    "from sklearn.preprocessing import LabelEncoder"
   ]
  },
  {
   "cell_type": "markdown",
   "metadata": {},
   "source": [
    "## Uploading the data\n",
    "\n",
    "The data was dowloaded from the Lending Club website in two files, one for each quarter.\n",
    "\n",
    "Uploading each file separately and then merging it into a single pandas data frame."
   ]
  },
  {
   "cell_type": "code",
   "execution_count": null,
   "metadata": {
    "collapsed": true
   },
   "outputs": [],
   "source": [
    "# Uploading data into two dataframes\n",
    "\n",
    "data_1Q = pd.read_csv('LoanStats_2017Q1.csv', skiprows=1, low_memory=False)\n",
    "data_2Q = pd.read_csv('LoanStats3a.csv', skiprows=1, low_memory=False)\n",
    "\n",
    "# Merging the dataframes\n",
    "\n",
    "data_loans = pd.concat([data_1Q, data_2Q])"
   ]
  },
  {
   "cell_type": "code",
   "execution_count": null,
   "metadata": {
    "collapsed": true
   },
   "outputs": [],
   "source": [
    "print (data_loans.shape)\n",
    "print(\"HEAD\")\n",
    "display(data_loans.head())\n",
    "print(\"\\n TAIL\")\n",
    "display(data_loans.tail())"
   ]
  },
  {
   "cell_type": "markdown",
   "metadata": {},
   "source": [
    "There are a few data descriptors at the end of the files than need to be remove. "
   ]
  },
  {
   "cell_type": "code",
   "execution_count": null,
   "metadata": {
    "collapsed": true
   },
   "outputs": [],
   "source": [
    "data_loans = data_loans.sort_values(by = 'id',na_position = 'first', ascending=True)\n",
    "display(data_loans.tail(10))"
   ]
  },
  {
   "cell_type": "code",
   "execution_count": null,
   "metadata": {
    "collapsed": true
   },
   "outputs": [],
   "source": [
    "print ('The data frame has %d rows (loans) with %d columns' % (data_loans.shape[0], data_loans.shape[1]))\n",
    "data_loans.drop(data_loans.tail(5).index,inplace=True)\n",
    "display(data_loans.tail(5))"
   ]
  },
  {
   "cell_type": "markdown",
   "metadata": {},
   "source": [
    "Remove the columns with only NaN and or with large number of NaN"
   ]
  },
  {
   "cell_type": "code",
   "execution_count": null,
   "metadata": {
    "collapsed": true
   },
   "outputs": [],
   "source": [
    "# Create df with number of NaN on each column\n",
    "use_col = pd.DataFrame(data_loans.isnull().sum().sort_values())\n",
    "use_col.reset_index(drop = False, inplace=True)\n",
    "use_col.columns = (['col_name','num_NaN'])\n",
    "display(use_col)"
   ]
  },
  {
   "cell_type": "code",
   "execution_count": null,
   "metadata": {
    "collapsed": true
   },
   "outputs": [],
   "source": [
    "pd.DataFrame(data_loans.isnull().sum().sort_values()[data_loans.isnull().sum().sort_values()<10])"
   ]
  },
  {
   "cell_type": "code",
   "execution_count": null,
   "metadata": {
    "collapsed": true
   },
   "outputs": [],
   "source": [
    "data_loans = data_loans.dropna(axis=1, how='all')\n",
    "data_loans.shape"
   ]
  },
  {
   "cell_type": "code",
   "execution_count": null,
   "metadata": {
    "collapsed": true
   },
   "outputs": [],
   "source": [
    "def df_col_low_nan(df_data, min_nan): \n",
    "    # Returns a df with columns with less nan than min_nan\n",
    "    use_col = pd.DataFrame(df_data.isnull().sum().sort_values()[df_data.isnull().sum().sort_values()<min_nan])\n",
    "    use_col.reset_index(drop = False, inplace=True)\n",
    "    use_col.columns = (['col_name','num_NaN'])\n",
    "    new_data = pd.DataFrame()\n",
    "    for i in range(0,len(use_col.col_name)):\n",
    "        df = df_data[use_col.col_name[i]]\n",
    "        new_data = pd.concat([new_data, df], axis=1)\n",
    "    return new_data\n"
   ]
  },
  {
   "cell_type": "code",
   "execution_count": null,
   "metadata": {
    "collapsed": true
   },
   "outputs": [],
   "source": [
    "n_loan_df = df_col_low_nan(data_loans, 10)\n",
    "n_loan_df.shape"
   ]
  },
  {
   "cell_type": "code",
   "execution_count": null,
   "metadata": {
    "collapsed": true
   },
   "outputs": [],
   "source": [
    "#data_loans\n",
    "#data_2017 = pd.read_csv('loans_2017.csv')\n",
    "n_loan_df.to_csv('loans_2017.csv', index=False)"
   ]
  },
  {
   "cell_type": "code",
   "execution_count": 2,
   "metadata": {
    "collapsed": true
   },
   "outputs": [],
   "source": [
    "n_loan_df = pd.read_csv('loans_2017.csv')"
   ]
  },
  {
   "cell_type": "markdown",
   "metadata": {},
   "source": [
    "## Creating and cleaning the target feature (loan_status)\n",
    "\n",
    "For the purpose of this project, problem loans are loans that have not been paid, and that have a been classified as:\n",
    "\n",
    "Late, Grace period, Default, or Charged Off"
   ]
  },
  {
   "cell_type": "code",
   "execution_count": 11,
   "metadata": {},
   "outputs": [
    {
     "data": {
      "text/plain": [
       "array(['Current', 'Fully Paid', 'Late (31-120 days)', 'Charged Off',\n",
       "       'In Grace Period', 'Late (16-30 days)', 'Default',\n",
       "       'Does not meet the credit policy. Status:Fully Paid',\n",
       "       'Does not meet the credit policy. Status:Charged Off'], dtype=object)"
      ]
     },
     "execution_count": 11,
     "metadata": {},
     "output_type": "execute_result"
    }
   ],
   "source": [
    "target_loans = n_loan_df.filter(regex='loan_status')\n",
    "target_loans.loan_status.unique()"
   ]
  },
  {
   "cell_type": "code",
   "execution_count": 12,
   "metadata": {},
   "outputs": [
    {
     "data": {
      "text/plain": [
       "array(['Fully Paid', 'Problem Loan'], dtype=object)"
      ]
     },
     "execution_count": 12,
     "metadata": {},
     "output_type": "execute_result"
    }
   ],
   "source": [
    "# Removing fully paid loans\n",
    "target_loans = target_loans[target_loans.loan_status.str.contains('Current')==False]\n",
    "\n",
    "# Collapsing all but Fully Paid into Problem Loan\n",
    "target_loans.loan_status = target_loans.loan_status.str.replace(r'(^.*Paid$)', \"Fully Paid\")\n",
    "target_loans.loan_status = target_loans.loan_status.str.replace(r'(^.*Charged Off$)', \"Charged Off\")\n",
    "target_loans.loan_status = target_loans.loan_status.str.replace(r'(^Late.*$)', \"Late\")\n",
    "target_loans.loan_status = target_loans.loan_status.str.replace(r'(Late)|(Charged Off)|(In Grace Period)|(Default)', \n",
    "                                                          \"Problem Loan\")\n",
    "target_loans.loan_status.unique()"
   ]
  },
  {
   "cell_type": "markdown",
   "metadata": {},
   "source": [
    "Encoding the varibale"
   ]
  },
  {
   "cell_type": "code",
   "execution_count": 13,
   "metadata": {},
   "outputs": [
    {
     "data": {
      "text/plain": [
       "array([0, 1])"
      ]
     },
     "execution_count": 13,
     "metadata": {},
     "output_type": "execute_result"
    }
   ],
   "source": [
    "l_encoder = LabelEncoder()\n",
    "target_loans.loan_status = l_encoder.fit_transform(target_loans.loan_status)\n",
    "target_loans.loan_status.unique()"
   ]
  },
  {
   "cell_type": "markdown",
   "metadata": {},
   "source": [
    "## Feature cleaning and selection"
   ]
  },
  {
   "cell_type": "code",
   "execution_count": 91,
   "metadata": {},
   "outputs": [
    {
     "data": {
      "text/plain": [
       "(139311, 35)"
      ]
     },
     "execution_count": 91,
     "metadata": {},
     "output_type": "execute_result"
    }
   ],
   "source": [
    "n_loan_df = pd.read_csv('loans_2017.csv')\n",
    "loan_feat = n_loan_df.drop([\"loan_status\"], axis=1)\n",
    "loan_feat.shape"
   ]
  },
  {
   "cell_type": "code",
   "execution_count": 92,
   "metadata": {
    "collapsed": true
   },
   "outputs": [],
   "source": [
    "def types_of_columns(df):\n",
    "    non_num_cols = df.dtypes[df.dtypes == 'object']\n",
    "    float_cols   = df.dtypes[df.dtypes == 'float']\n",
    "    return non_num_cols, float_cols\n",
    "\n",
    "col_types_original = types_of_columns(loan_feat)"
   ]
  },
  {
   "cell_type": "markdown",
   "metadata": {},
   "source": [
    "### Non-Numerical Features"
   ]
  },
  {
   "cell_type": "code",
   "execution_count": 93,
   "metadata": {},
   "outputs": [
    {
     "data": {
      "text/plain": [
       "hardship_flag           object\n",
       "initial_list_status     object\n",
       "disbursement_method     object\n",
       "application_type        object\n",
       "addr_state              object\n",
       "verification_status     object\n",
       "term                    object\n",
       "int_rate                object\n",
       "grade                   object\n",
       "sub_grade               object\n",
       "emp_length              object\n",
       "home_ownership          object\n",
       "purpose                 object\n",
       "issue_d                 object\n",
       "pymnt_plan              object\n",
       "debt_settlement_flag    object\n",
       "zip_code                object\n",
       "last_credit_pull_d      object\n",
       "dtype: object"
      ]
     },
     "execution_count": 93,
     "metadata": {},
     "output_type": "execute_result"
    }
   ],
   "source": [
    "col_types_original[0]"
   ]
  },
  {
   "cell_type": "code",
   "execution_count": 94,
   "metadata": {},
   "outputs": [
    {
     "name": "stdout",
     "output_type": "stream",
     "text": [
      "\n",
      " hardship_flag \n",
      " 2 \n",
      " ['N' 'Y']\n",
      "\n",
      " initial_list_status \n",
      " 2 \n",
      " ['f' 'w']\n",
      "\n",
      " disbursement_method \n",
      " 2 \n",
      " ['Cash' 'DirectPay']\n",
      "\n",
      " application_type \n",
      " 2 \n",
      " ['Individual' 'Joint App']\n",
      "\n",
      " addr_state \n",
      " 51 \n",
      " ['PA' 'NY' 'TX' 'UT' 'AZ' 'MI' 'SD' 'NJ' 'IN' 'FL' 'OH' 'CT' 'WI' 'WA' 'VA'\n",
      " 'CA' 'MT' 'AL' 'IL' 'GA' 'MA' 'MD' 'KS' 'CO' 'OK' 'NV' 'OR' 'MN' 'AR' 'HI'\n",
      " 'LA' 'SC' 'ND' 'NC' 'TN' 'NM' 'MO' 'NE' 'KY' 'DC' 'MS' 'WY' 'RI' 'NH' 'ID'\n",
      " 'VT' 'ME' 'DE' 'AK' 'WV' 'IA']\n",
      "\n",
      " verification_status \n",
      " 3 \n",
      " ['Not Verified' 'Source Verified' 'Verified']\n",
      "\n",
      " term \n",
      " 2 \n",
      " [' 36 months' ' 60 months']\n",
      "\n",
      " int_rate \n",
      " 420 \n",
      " ['  8.24%' ' 10.49%' '  7.24%' ' 15.99%' ' 11.44%' ' 12.74%' '  5.32%'\n",
      " '  7.49%' ' 11.39%' ' 14.99%' ' 13.49%' '  7.99%' ' 25.49%' ' 13.99%'\n",
      " '  6.99%' ' 16.99%' ' 18.99%' ' 11.49%' ' 19.99%' ' 30.84%' ' 17.99%'\n",
      " ' 28.69%' ' 23.99%' ' 22.74%' ' 24.74%' ' 29.99%' ' 26.24%' ' 30.89%'\n",
      " ' 30.79%' ' 30.74%' ' 30.49%' ' 29.49%' ' 30.94%' ' 21.49%' ' 30.99%'\n",
      " '  6.00%' ' 10.65%' ' 15.27%' ' 15.96%' ' 12.69%' '  7.90%' ' 18.64%'\n",
      " ' 21.28%' ' 14.65%' '  9.91%' ' 16.29%' '  6.03%' ' 11.71%' ' 12.42%'\n",
      " ' 14.27%' ' 16.77%' '  7.51%' '  8.90%' ' 18.25%' '  6.62%' ' 19.91%'\n",
      " ' 17.27%' ' 17.58%' ' 21.67%' ' 19.42%' ' 22.06%' ' 20.89%' ' 20.30%'\n",
      " ' 23.91%' ' 19.03%' ' 23.52%' ' 23.13%' ' 22.35%' ' 24.11%' ' 22.11%'\n",
      " ' 11.99%' '  5.99%' ' 10.99%' '  9.99%' ' 18.79%' '  8.49%' ' 16.49%'\n",
      " ' 12.99%' ' 15.23%' ' 14.79%' '  5.42%' ' 10.59%' ' 17.49%' ' 15.62%'\n",
      " ' 21.36%' ' 19.29%' ' 18.39%' ' 16.89%' ' 20.62%' ' 20.99%' ' 22.85%'\n",
      " ' 19.69%' ' 20.25%' ' 23.22%' ' 21.74%' ' 22.48%' ' 23.59%' ' 12.62%'\n",
      " ' 18.07%' ' 11.63%' '  7.91%' '  7.42%' ' 11.14%' ' 20.20%' ' 12.12%'\n",
      " ' 19.39%' ' 16.11%' ' 17.54%' ' 22.64%' ' 13.84%' ' 16.59%' ' 17.19%'\n",
      " ' 12.87%' ' 20.69%' '  9.67%' ' 21.82%' ' 19.79%' ' 18.49%' ' 22.94%'\n",
      " ' 24.59%' ' 24.40%' ' 21.48%' ' 14.82%' ' 14.17%' '  7.29%' ' 17.88%'\n",
      " ' 20.11%' ' 16.02%' ' 17.51%' ' 13.43%' ' 14.91%' ' 13.06%' ' 15.28%'\n",
      " ' 15.65%' ' 17.14%' ' 11.11%' ' 10.37%' ' 16.40%' '  7.66%' ' 10.00%'\n",
      " ' 18.62%' ' 10.74%' '  5.79%' '  6.92%' '  9.63%' ' 14.54%' ' 12.68%'\n",
      " ' 19.36%' ' 13.80%' ' 21.59%' ' 20.85%' ' 21.22%' ' 19.74%' ' 20.48%'\n",
      " '  6.91%' ' 12.23%' ' 12.61%' ' 10.36%' '  6.17%' '  6.54%' '  9.25%'\n",
      " ' 16.69%' ' 15.95%' '  8.88%' ' 13.35%' '  9.62%' ' 16.32%' ' 12.98%'\n",
      " ' 14.83%' ' 13.72%' ' 14.09%' ' 14.46%' ' 20.03%' ' 17.80%' ' 15.20%'\n",
      " ' 15.57%' ' 18.54%' ' 19.66%' ' 17.06%' ' 18.17%' ' 17.43%' ' 20.40%'\n",
      " ' 20.77%' ' 18.91%' ' 21.14%' ' 17.44%' ' 13.23%' '  7.88%' ' 11.12%'\n",
      " ' 13.61%' ' 10.38%' ' 17.56%' ' 17.93%' ' 15.58%' ' 13.98%' ' 14.84%'\n",
      " ' 15.21%' '  6.76%' '  6.39%' ' 11.86%' '  7.14%' ' 14.35%' ' 16.82%'\n",
      " ' 10.75%' ' 14.72%' ' 16.45%' ' 18.67%' ' 20.53%' ' 19.41%' ' 20.16%'\n",
      " ' 21.27%' ' 18.30%' ' 19.04%' ' 20.90%' ' 21.64%' ' 12.73%' ' 10.25%'\n",
      " ' 13.11%' ' 10.62%' ' 13.48%' ' 14.59%' ' 16.07%' ' 15.70%' '  9.88%'\n",
      " ' 11.36%' ' 15.33%' ' 13.85%' ' 14.96%' ' 14.22%' '  7.74%' ' 13.22%'\n",
      " ' 13.57%' '  8.59%' ' 17.04%' ' 14.61%' '  8.94%' ' 12.18%' ' 11.83%'\n",
      " ' 11.48%' ' 16.35%' ' 13.92%' ' 15.31%' ' 14.26%' ' 19.13%' ' 12.53%'\n",
      " ' 16.70%' ' 16.00%' ' 17.39%' ' 18.09%' '  7.40%' ' 18.43%' ' 17.74%'\n",
      " '  7.05%' ' 20.52%' ' 20.86%' ' 19.47%' ' 18.78%' ' 21.21%' ' 19.82%'\n",
      " ' 20.17%' ' 13.16%' '  8.00%' ' 13.47%' ' 12.21%' ' 16.63%' '  9.32%'\n",
      " ' 12.84%' ' 11.26%' ' 15.68%' ' 15.37%' ' 10.95%' ' 11.89%' ' 14.11%'\n",
      " ' 13.79%' '  7.68%' ' 11.58%' '  7.37%' ' 16.95%' ' 15.05%' ' 18.53%'\n",
      " ' 14.74%' ' 14.42%' ' 18.21%' ' 17.26%' ' 18.84%' ' 17.90%' ' 19.16%'\n",
      " ' 13.67%' '  9.38%' ' 12.72%' ' 13.36%' ' 11.46%' ' 10.51%' '  9.07%'\n",
      " ' 13.04%' ' 11.78%' ' 12.41%' ' 10.83%' ' 12.09%' ' 17.46%' ' 14.30%'\n",
      " ' 17.15%' ' 15.25%' ' 10.20%' ' 15.88%' ' 14.93%' ' 16.20%' ' 18.72%'\n",
      " ' 14.62%' '  8.32%' ' 14.12%' ' 10.96%' ' 10.33%' ' 10.01%' ' 12.86%'\n",
      " ' 11.28%' ' 11.59%' '  8.63%' ' 12.54%' ' 12.22%' ' 11.91%' ' 15.38%'\n",
      " ' 16.96%' ' 13.17%' '  9.70%' ' 16.33%' ' 14.75%' ' 15.07%' ' 16.01%'\n",
      " ' 10.71%' ' 10.64%' '  9.76%' ' 11.34%' ' 10.39%' ' 13.87%' ' 11.03%'\n",
      " ' 11.66%' ' 13.24%' ' 10.08%' '  9.45%' ' 13.55%' ' 12.29%' ' 11.97%'\n",
      " ' 12.92%' ' 15.45%' ' 14.50%' ' 14.18%' ' 15.13%' ' 16.08%' ' 15.76%'\n",
      " ' 17.03%' ' 17.34%' ' 16.71%' '  9.83%' ' 13.62%' ' 10.46%' '  9.51%'\n",
      " '  9.20%' ' 13.30%' ' 10.78%' '  7.75%' '  8.38%' ' 12.36%' ' 12.67%'\n",
      " ' 11.72%' ' 13.93%' '  8.07%' '  7.43%' ' 12.04%' ' 14.25%' ' 14.88%'\n",
      " ' 11.41%' ' 11.09%' ' 10.14%' ' 16.15%' ' 15.83%' '  7.12%' ' 18.36%'\n",
      " '  9.64%' '  9.96%' ' 11.22%' '  9.01%' '  9.33%' ' 11.54%' ' 12.17%'\n",
      " ' 12.80%' ' 14.38%' ' 13.75%' ' 14.70%' ' 12.49%' ' 14.07%' ' 10.91%'\n",
      " ' 13.12%' ' 10.28%' '  8.70%' ' 14.67%' ' 15.01%' ' 17.78%' ' 16.83%'\n",
      " ' 17.59%' ' 14.43%' ' 16.65%' ' 17.91%' ' 17.28%' ' 18.86%' ' 18.61%'\n",
      " ' 17.66%' ' 18.29%' ' 17.97%' ' 18.04%' ' 14.57%' ' 17.72%' ' 17.09%'\n",
      " ' 15.51%' ' 16.46%' ' 17.41%' ' 17.22%' ' 16.91%' ' 16.28%' ' 17.86%']\n",
      "\n",
      " grade \n",
      " 7 \n",
      " ['B' 'A' 'C' 'E' 'D' 'G' 'F']\n",
      "\n",
      " sub_grade \n",
      " 35 \n",
      " ['B1' 'B2' 'A3' 'C5' 'B4' 'C1' 'A1' 'A4' 'B3' 'C4' 'C2' 'A5' 'E4' 'C3' 'A2'\n",
      " 'D1' 'D3' 'B5' 'D4' 'G2' 'D2' 'F1' 'E2' 'E1' 'E3' 'F3' 'E5' 'G3' 'G1' 'F5'\n",
      " 'F4' 'F2' 'G4' 'D5' 'G5']\n",
      "\n",
      " emp_length \n",
      " 12 \n",
      " ['4 years' '3 years' '8 years' '10+ years' '5 years' 'n/a' '6 years'\n",
      " '2 years' '9 years' '1 year' '< 1 year' '7 years']\n",
      "\n",
      " home_ownership \n",
      " 6 \n",
      " ['RENT' 'MORTGAGE' 'OWN' 'ANY' 'NONE' 'OTHER']\n",
      "\n",
      " purpose \n",
      " 14 \n",
      " ['credit_card' 'debt_consolidation' 'home_improvement' 'other'\n",
      " 'major_purchase' 'car' 'vacation' 'medical' 'house' 'small_business'\n",
      " 'moving' 'renewable_energy' 'wedding' 'educational']\n",
      "\n",
      " issue_d \n",
      " 58 \n",
      " ['Mar-2017' 'Feb-2017' 'Jan-2017' 'Dec-2011' 'Nov-2011' 'Oct-2011'\n",
      " 'Sep-2011' 'Aug-2011' 'Jul-2011' 'Jun-2011' 'May-2011' 'Apr-2011'\n",
      " 'Mar-2011' 'Feb-2011' 'Jan-2011' 'Dec-2010' 'Nov-2010' 'Oct-2010'\n",
      " 'Sep-2010' 'Aug-2010' 'Jul-2010' 'Jun-2010' 'May-2010' 'Apr-2010'\n",
      " 'Mar-2010' 'Feb-2010' 'Jan-2010' 'Dec-2009' 'Nov-2009' 'Oct-2009'\n",
      " 'Sep-2009' 'Aug-2009' 'Jul-2009' 'Jun-2009' 'May-2009' 'Apr-2009'\n",
      " 'Mar-2009' 'Feb-2009' 'Jan-2009' 'Dec-2008' 'Nov-2008' 'Oct-2008'\n",
      " 'Sep-2008' 'Aug-2008' 'Jul-2008' 'Jun-2008' 'May-2008' 'Apr-2008'\n",
      " 'Mar-2008' 'Feb-2008' 'Jan-2008' 'Dec-2007' 'Nov-2007' 'Oct-2007'\n",
      " 'Sep-2007' 'Aug-2007' 'Jul-2007' 'Jun-2007']\n",
      "\n",
      " pymnt_plan \n",
      " 2 \n",
      " ['n' 'y']\n",
      "\n",
      " debt_settlement_flag \n",
      " 2 \n",
      " ['N' 'Y']\n",
      "\n",
      " zip_code \n",
      " 897 \n",
      " ['187xx' '101xx' '773xx' '847xx' '852xx' '480xx' '577xx' '112xx' '840xx'\n",
      " '751xx' '070xx' '864xx' '467xx' '324xx' '454xx' '064xx' '066xx' '531xx'\n",
      " '329xx' '768xx' '981xx' '486xx' '224xx' '917xx' '593xx' '080xx' '941xx'\n",
      " '367xx' '088xx' '902xx' '190xx' '984xx' '945xx' '950xx' '600xx' '068xx'\n",
      " '926xx' '983xx' '980xx' '307xx' '433xx' '021xx' '301xx' '761xx' '067xx'\n",
      " '196xx' '606xx' '207xx' '672xx' '087xx' '850xx' '908xx' '913xx' '774xx'\n",
      " '357xx' '320xx' '813xx' '337xx' '958xx' '076xx' '815xx' '809xx' '731xx'\n",
      " '442xx' '614xx' '782xx' '346xx' '928xx' '113xx' '922xx' '765xx' '450xx'\n",
      " '617xx' '890xx' '194xx' '133xx' '976xx' '012xx' '153xx' '142xx' '921xx'\n",
      " '321xx' '752xx' '085xx' '300xx' '458xx' '234xx' '957xx' '770xx' '785xx'\n",
      " '160xx' '336xx' '894xx' '567xx' '717xx' '334xx' '305xx' '967xx' '800xx'\n",
      " '704xx' '347xx' '023xx' '290xx' '432xx' '114xx' '121xx' '601xx' '982xx'\n",
      " '747xx' '104xx' '841xx' '787xx' '463xx' '144xx' '208xx' '627xx' '851xx'\n",
      " '027xx' '930xx' '582xx' '065xx' '891xx' '802xx' '441xx' '358xx' '322xx'\n",
      " '325xx' '210xx' '925xx' '537xx' '986xx' '900xx' '473xx' '328xx' '460xx'\n",
      " '775xx' '435xx' '368xx' '122xx' '206xx' '972xx' '907xx' '286xx' '379xx'\n",
      " '482xx' '100xx' '720xx' '971xx' '476xx' '349xx' '906xx' '623xx' '335xx'\n",
      " '282xx' '724xx' '882xx' '185xx' '993xx' '281xx' '151xx' '974xx' '955xx'\n",
      " '366xx' '630xx' '640xx' '372xx' '331xx' '689xx' '750xx' '605xx' '402xx'\n",
      " '633xx' '777xx' '242xx' '243xx' '542xx' '801xx' '212xx' '155xx' '933xx'\n",
      " '342xx' '280xx' '103xx' '660xx' '237xx' '180xx' '209xx' '808xx' '356xx'\n",
      " '910xx' '105xx' '927xx' '191xx' '846xx' '940xx' '540xx' '794xx' '303xx'\n",
      " '200xx' '793xx' '662xx' '609xx' '784xx' '760xx' '935xx' '294xx' '953xx'\n",
      " '318xx' '295xx' '970xx' '130xx' '388xx' '138xx' '381xx' '156xx' '456xx'\n",
      " '330xx' '461xx' '820xx' '553xx' '026xx' '201xx' '297xx' '956xx' '019xx'\n",
      " '481xx' '028xx' '564xx' '554xx' '604xx' '547xx' '060xx' '109xx' '822xx'\n",
      " '077xx' '718xx' '786xx' '285xx' '549xx' '302xx' '535xx' '029xx' '386xx'\n",
      " '384xx' '276xx' '283xx' '954xx' '631xx' '721xx' '287xx' '351xx' '931xx'\n",
      " '705xx' '734xx' '532xx' '032xx' '923xx' '551xx' '826xx' '949xx' '816xx'\n",
      " '560xx' '220xx' '157xx' '490xx' '471xx' '106xx' '341xx' '314xx' '915xx'\n",
      " '447xx' '240xx' '837xx' '193xx' '937xx' '565xx' '293xx' '117xx' '083xx'\n",
      " '304xx' '214xx' '378xx' '767xx' '339xx' '054xx' '919xx' '042xx' '338xx'\n",
      " '573xx' '370xx' '178xx' '374xx' '857xx' '132xx' '119xx' '650xx' '197xx'\n",
      " '284xx' '959xx' '934xx' '444xx' '805xx' '082xx' '895xx' '797xx' '610xx'\n",
      " '488xx' '361xx' '483xx' '920xx' '176xx' '744xx' '400xx' '073xx' '110xx'\n",
      " '327xx' '333xx' '451xx' '115xx' '323xx' '607xx' '081xx' '016xx' '440xx'\n",
      " '687xx' '359xx' '086xx' '147xx' '313xx' '390xx' '587xx' '998xx' '994xx'\n",
      " '703xx' '856xx' '216xx' '405xx' '973xx' '968xx' '310xx' '315xx' '189xx'\n",
      " '932xx' '781xx' '410xx' '736xx' '352xx' '615xx' '457xx' '057xx' '711xx'\n",
      " '373xx' '431xx' '296xx' '123xx' '669xx' '040xx' '217xx' '397xx' '996xx'\n",
      " '597xx' '164xx' '599xx' '071xx' '233xx' '225xx' '495xx' '350xx' '952xx'\n",
      " '129xx' '496xx' '740xx' '365xx' '946xx' '075xx' '452xx' '395xx' '169xx'\n",
      " '641xx' '360xx' '291xx' '550xx' '152xx' '657xx' '244xx' '124xx' '681xx'\n",
      " '434xx' '038xx' '943xx' '150xx' '108xx' '655xx' '326xx' '780xx' '161xx'\n",
      " '989xx' '905xx' '275xx' '474xx' '789xx' '031xx' '383xx' '111xx' '729xx'\n",
      " '618xx' '232xx' '184xx' '154xx' '799xx' '229xx' '371xx' '246xx' '186xx'\n",
      " '223xx' '871xx' '037xx' '596xx' '226xx' '939xx' '058xx' '430xx' '420xx'\n",
      " '853xx' '188xx' '701xx' '462xx' '182xx' '612xx' '140xx' '199xx' '211xx'\n",
      " '855xx' '158xx' '988xx' '763xx' '652xx' '024xx' '380xx' '167xx' '948xx'\n",
      " '722xx' '236xx' '779xx' '403xx' '999xx' '215xx' '317xx' '018xx' '146xx'\n",
      " '231xx' '468xx' '017xx' '079xx' '020xx' '590xx' '719xx' '658xx' '951xx'\n",
      " '072xx' '622xx' '128xx' '991xx' '492xx' '025xx' '235xx' '834xx' '677xx'\n",
      " '222xx' '708xx' '078xx' '749xx' '014xx' '061xx' '743xx' '629xx' '666xx'\n",
      " '776xx' '570xx' '125xx' '170xx' '166xx' '074xx' '107xx' '448xx' '165xx'\n",
      " '446xx' '272xx' '904xx' '691xx' '912xx' '489xx' '707xx' '493xx' '171xx'\n",
      " '674xx' '063xx' '173xx' '364xx' '022xx' '635xx' '827xx' '392xx' '228xx'\n",
      " '992xx' '015xx' '762xx' '137xx' '484xx' '700xx' '883xx' '683xx' '811xx'\n",
      " '860xx' '975xx' '292xx' '563xx' '048xx' '116xx' '877xx' '499xx' '046xx'\n",
      " '688xx' '487xx' '936xx' '534xx' '628xx' '437xx' '613xx' '728xx' '530xx'\n",
      " '645xx' '730xx' '686xx' '344xx' '541xx' '421xx' '436xx' '278xx' '195xx'\n",
      " '755xx' '598xx' '411xx' '667xx' '049xx' '478xx' '172xx' '245xx' '745xx'\n",
      " '148xx' '469xx' '221xx' '464xx' '030xx' '465xx' '355xx' '289xx' '845xx'\n",
      " '443xx' '706xx' '735xx' '163xx' '977xx' '944xx' '377xx' '806xx' '069xx'\n",
      " '741xx' '727xx' '833xx' '274xx' '198xx' '277xx' '544xx' '033xx' '838xx'\n",
      " '680xx' '120xx' '671xx' '644xx' '748xx' '648xx' '363xx' '796xx' '145xx'\n",
      " '299xx' '174xx' '270xx' '772xx' '824xx' '271xx' '557xx' '466xx' '118xx'\n",
      " '127xx' '385xx' '548xx' '134xx' '010xx' '828xx' '594xx' '716xx' '288xx'\n",
      " '126xx' '918xx' '175xx' '427xx' '880xx' '546xx' '453xx' '572xx' '238xx'\n",
      " '634xx' '393xx' '756xx' '832xx' '678xx' '603xx' '354xx' '810xx' '624xx'\n",
      " '673xx' '376xx' '052xx' '539xx' '545xx' '985xx' '924xx' '558xx' '990xx'\n",
      " '911xx' '997xx' '995xx' '050xx' '914xx' '391xx' '960xx' '141xx' '424xx'\n",
      " '485xx' '685xx' '396xx' '881xx' '611xx' '661xx' '183xx' '159xx' '898xx'\n",
      " '308xx' '218xx' '783xx' '035xx' '602xx' '089xx' '608xx' '746xx' '636xx'\n",
      " '494xx' '656xx' '723xx' '041xx' '559xx' '588xx' '179xx' '181xx' '766xx'\n",
      " '778xx' '227xx' '498xx' '387xx' '241xx' '404xx' '425xx' '472xx' '978xx'\n",
      " '562xx' '737xx' '084xx' '668xx' '897xx' '219xx' '670xx' '803xx' '479xx'\n",
      " '306xx' '873xx' '795xx' '455xx' '319xx' '139xx' '690xx' '757xx' '131xx'\n",
      " '591xx' '062xx' '053xx' '836xx' '710xx' '312xx' '581xx' '136xx' '566xx'\n",
      " '807xx' '764xx' '369xx' '675xx' '309xx' '044xx' '769xx' '475xx' '045xx'\n",
      " '239xx' '870xx' '056xx' '712xx' '102xx' '726xx' '273xx' '583xx' '863xx'\n",
      " '844xx' '439xx' '574xx' '625xx' '298xx' '879xx' '497xx' '979xx' '426xx'\n",
      " '664xx' '168xx' '094xx' '714xx' '620xx' '916xx' '754xx' '616xx' '875xx'\n",
      " '693xx' '401xx' '449xx' '646xx' '804xx' '961xx' '788xx' '543xx' '676xx'\n",
      " '034xx' '814xx' '423xx' '653xx' '149xx' '011xx' '230xx' '477xx' '647xx'\n",
      " '135xx' '619xx' '626xx' '759xx' '684xx' '422xx' '758xx' '177xx' '947xx'\n",
      " '571xx' '829xx' '416xx' '965xx' '394xx' '316xx' '096xx' '445xx' '753xx'\n",
      " '561xx' '903xx' '791xx' '382xx' '412xx' '039xx' '389xx' '580xx' '362xx'\n",
      " '790xx' '585xx' '812xx' '665xx' '470xx' '406xx' '843xx' '713xx' '047xx'\n",
      " '143xx' '592xx' '413xx' '491xx' '051xx' '090xx' '408xx' '013xx' '654xx'\n",
      " '725xx' '942xx' '874xx' '438xx' '586xx' '398xx' '679xx' '637xx' '835xx'\n",
      " '556xx' '332xx' '651xx' '409xx' '279xx' '584xx' '831xx' '043xx' '830xx'\n",
      " '638xx' '964xx' '575xx' '595xx' '576xx' '798xx' '092xx' '639xx' '963xx'\n",
      " '059xx' '859xx' '407xx' '823xx' '162xx' '538xx' '738xx' '692xx' '792xx'\n",
      " '825xx' '311xx' '878xx' '415xx' '008xx' '348xx' '414xx' '865xx' '036xx'\n",
      " '884xx' '962xx' '739xx' '893xx' '698xx' '966xx' '417xx' nan '262xx'\n",
      " '258xx' '854xx' '091xx' '340xx' '901xx' '261xx' '204xx' '694xx' '263xx'\n",
      " '265xx' '260xx' '969xx' '254xx' '255xx' '663xx' '253xx' '528xx' '250xx'\n",
      " '256xx' '527xx' '257xx' '247xx' '203xx' '268xx' '267xx' '259xx' '264xx'\n",
      " '375xx' '266xx' '251xx' '249xx' '252xx' '353xx' '007xx' '093xx' '248xx'\n",
      " '522xx' '523xx' '418xx' '514xx' '500xx' '503xx']\n",
      "\n",
      " last_credit_pull_d \n",
      " 125 \n",
      " ['Oct-2017' 'Jun-2017' 'Sep-2017' 'May-2017' 'Mar-2017' 'Jul-2017'\n",
      " 'Aug-2017' 'Apr-2017' 'Feb-2017' nan 'Jan-2017' 'Dec-2016' 'Oct-2016'\n",
      " 'Apr-2016' 'Sep-2016' 'Dec-2014' 'Aug-2013' 'May-2014' 'Jul-2015'\n",
      " 'Feb-2016' 'Jun-2016' 'Mar-2014' 'Sep-2012' 'Jan-2015' 'Jan-2016'\n",
      " 'Dec-2015' 'Jun-2012' 'Mar-2016' 'Mar-2015' 'Sep-2014' 'Apr-2014'\n",
      " 'Oct-2014' 'Feb-2014' 'Feb-2013' 'Nov-2015' 'Jul-2014' 'Dec-2012'\n",
      " 'Nov-2016' 'Jul-2016' 'Jun-2015' 'Mar-2013' 'Feb-2012' 'Nov-2013'\n",
      " 'Oct-2015' 'May-2016' 'Apr-2012' 'Sep-2015' 'May-2013' 'Aug-2015'\n",
      " 'Jun-2014' 'Aug-2012' 'Sep-2013' 'Jan-2012' 'Aug-2014' 'Oct-2013'\n",
      " 'Aug-2016' 'May-2012' 'Jul-2012' 'Jan-2014' 'Oct-2012' 'Jun-2013'\n",
      " 'Dec-2013' 'Nov-2014' 'Apr-2015' 'Apr-2013' 'Nov-2012' 'May-2015'\n",
      " 'Jul-2013' 'Feb-2015' 'Mar-2012' 'Nov-2011' 'Dec-2011' 'Jan-2013'\n",
      " 'Oct-2011' 'Sep-2011' 'Aug-2011' 'Jul-2011' 'Jun-2011' 'May-2011'\n",
      " 'Apr-2011' 'Mar-2011' 'Feb-2011' 'Jan-2011' 'Dec-2010' 'Nov-2010'\n",
      " 'Oct-2010' 'Sep-2010' 'Aug-2010' 'Jul-2010' 'Jun-2010' 'May-2010'\n",
      " 'Apr-2010' 'Mar-2010' 'Feb-2010' 'Aug-2007' 'Jan-2010' 'Dec-2009'\n",
      " 'Nov-2009' 'Oct-2009' 'Sep-2009' 'Jul-2009' 'Aug-2009' 'May-2009'\n",
      " 'Jun-2009' 'Apr-2009' 'Mar-2009' 'Feb-2009' 'Jan-2009' 'Dec-2008'\n",
      " 'Jun-2008' 'Sep-2008' 'May-2008' 'Aug-2008' 'Mar-2008' 'Oct-2008'\n",
      " 'Feb-2008' 'Jan-2008' 'Dec-2007' 'Jul-2008' 'Oct-2007' 'Sep-2007'\n",
      " 'Jun-2007' 'May-2007' 'Jul-2007' 'Nov-2007']\n"
     ]
    }
   ],
   "source": [
    "def object_checker (df1, df2, num):\n",
    "    # df1 dataframe whit the columns\n",
    "    # df2 dataframe with colum names\n",
    "    for col in range(0,len(df2)):\n",
    "        col = df2.index[col]\n",
    "        values = df1[col].unique()\n",
    "        if len(values) > num:\n",
    "           print(\"\\n\", col, \"\\n\",len(values),\"\\n\" ,values)\n",
    "\n",
    "object_checker(loan_feat, types_of_columns(loan_feat)[0], 0)"
   ]
  },
  {
   "cell_type": "markdown",
   "metadata": {},
   "source": [
    "### Dropping columns with repetitive or non-relevant information\n",
    "\n",
    "zip_code and addr_state have similar information - keeping addr_state\n",
    "\n",
    "grade and sub_grade also have similar information - keeping grade"
   ]
  },
  {
   "cell_type": "code",
   "execution_count": 95,
   "metadata": {
    "collapsed": true
   },
   "outputs": [],
   "source": [
    "# Dropping zip_code as there is a state column \n",
    "loan_feat = loan_feat.drop([\"zip_code\"], axis=1)\n",
    "\n",
    "# Dropping sub_grade\n",
    "loan_feat = loan_feat.drop([\"sub_grade\"], axis=1)"
   ]
  },
  {
   "cell_type": "markdown",
   "metadata": {},
   "source": [
    "Converting dates and other numbers into actual numeric variables"
   ]
  },
  {
   "cell_type": "code",
   "execution_count": 96,
   "metadata": {
    "collapsed": true
   },
   "outputs": [],
   "source": [
    "# int_rate\n",
    "loan_feat.int_rate = loan_feat.int_rate.str.replace('%', \" \").astype(float)\n",
    "\n",
    "# emp_length\n",
    "# Removing 2110 rows with n/a in emp_length\n",
    "loan_feat = loan_feat[loan_feat.emp_length.str.contains('n/a')==False]\n",
    "# less than one year is now 0\n",
    "loan_feat.emp_length = loan_feat.emp_length.str.replace(r'( years)|( year)|(\\+ years)', \"\").str.replace('< 1','0').astype(float)\n",
    "\n",
    "# Dates\n",
    "# issue_d is now delta time since issued\n",
    "loan_feat.issue_d = ((max(pd.to_datetime(loan_feat['issue_d'])) - pd.to_datetime(loan_feat['issue_d'])).dt.days/365).astype(int)\n",
    "\n",
    "# last_credit_pull_d is now delta time since last credit check\n",
    "loan_feat.last_credit_pull_d = (max(pd.to_datetime(loan_feat['last_credit_pull_d'])) - pd.to_datetime(loan_feat['last_credit_pull_d'])).dt.days/365\n",
    "loan_feat.last_credit_pull_d = loan_feat.last_credit_pull_d[loan_feat.last_credit_pull_d.isnull()==False]\n",
    "loan_feat = loan_feat[loan_feat.last_credit_pull_d.isnull() == False]"
   ]
  },
  {
   "cell_type": "code",
   "execution_count": 97,
   "metadata": {},
   "outputs": [
    {
     "name": "stdout",
     "output_type": "stream",
     "text": [
      "\n",
      " hardship_flag \n",
      " 2 \n",
      " ['N' 'Y']\n",
      "\n",
      " initial_list_status \n",
      " 2 \n",
      " ['f' 'w']\n",
      "\n",
      " disbursement_method \n",
      " 2 \n",
      " ['Cash' 'DirectPay']\n",
      "\n",
      " application_type \n",
      " 2 \n",
      " ['Individual' 'Joint App']\n",
      "\n",
      " addr_state \n",
      " 51 \n",
      " ['PA' 'NY' 'TX' 'UT' 'AZ' 'MI' 'SD' 'NJ' 'IN' 'FL' 'OH' 'CT' 'WI' 'WA' 'VA'\n",
      " 'CA' 'MT' 'AL' 'IL' 'GA' 'MA' 'MD' 'KS' 'CO' 'OK' 'NV' 'OR' 'MN' 'AR' 'HI'\n",
      " 'LA' 'SC' 'ND' 'NC' 'TN' 'NM' 'MO' 'NE' 'KY' 'DC' 'MS' 'WY' 'RI' 'NH' 'ID'\n",
      " 'VT' 'ME' 'DE' 'AK' 'WV' 'IA']\n",
      "\n",
      " verification_status \n",
      " 3 \n",
      " ['Not Verified' 'Source Verified' 'Verified']\n",
      "\n",
      " term \n",
      " 2 \n",
      " [' 36 months' ' 60 months']\n",
      "\n",
      " grade \n",
      " 7 \n",
      " ['B' 'A' 'C' 'E' 'D' 'G' 'F']\n",
      "\n",
      " home_ownership \n",
      " 6 \n",
      " ['RENT' 'MORTGAGE' 'OWN' 'ANY' 'NONE' 'OTHER']\n",
      "\n",
      " purpose \n",
      " 14 \n",
      " ['credit_card' 'debt_consolidation' 'home_improvement' 'other'\n",
      " 'major_purchase' 'car' 'vacation' 'medical' 'house' 'small_business'\n",
      " 'moving' 'renewable_energy' 'wedding' 'educational']\n",
      "\n",
      " pymnt_plan \n",
      " 2 \n",
      " ['n' 'y']\n",
      "\n",
      " debt_settlement_flag \n",
      " 2 \n",
      " ['N' 'Y']\n"
     ]
    }
   ],
   "source": [
    "object_checker(loan_feat, types_of_columns(loan_feat)[0], 0)"
   ]
  },
  {
   "cell_type": "code",
   "execution_count": 98,
   "metadata": {},
   "outputs": [
    {
     "data": {
      "text/html": [
       "<div>\n",
       "<style>\n",
       "    .dataframe thead tr:only-child th {\n",
       "        text-align: right;\n",
       "    }\n",
       "\n",
       "    .dataframe thead th {\n",
       "        text-align: left;\n",
       "    }\n",
       "\n",
       "    .dataframe tbody tr th {\n",
       "        vertical-align: top;\n",
       "    }\n",
       "</style>\n",
       "<table border=\"1\" class=\"dataframe\">\n",
       "  <thead>\n",
       "    <tr style=\"text-align: right;\">\n",
       "      <th></th>\n",
       "      <th>loan_amnt</th>\n",
       "      <th>hardship_flag</th>\n",
       "      <th>revol_bal</th>\n",
       "      <th>initial_list_status</th>\n",
       "      <th>out_prncp</th>\n",
       "      <th>out_prncp_inv</th>\n",
       "      <th>total_pymnt</th>\n",
       "      <th>disbursement_method</th>\n",
       "      <th>total_pymnt_inv</th>\n",
       "      <th>total_rec_late_fee</th>\n",
       "      <th>...</th>\n",
       "      <th>grade</th>\n",
       "      <th>emp_length</th>\n",
       "      <th>home_ownership</th>\n",
       "      <th>purpose</th>\n",
       "      <th>issue_d</th>\n",
       "      <th>funded_amnt_inv</th>\n",
       "      <th>pymnt_plan</th>\n",
       "      <th>debt_settlement_flag</th>\n",
       "      <th>annual_inc</th>\n",
       "      <th>last_credit_pull_d</th>\n",
       "    </tr>\n",
       "  </thead>\n",
       "  <tbody>\n",
       "    <tr>\n",
       "      <th>0</th>\n",
       "      <td>5000.0</td>\n",
       "      <td>0</td>\n",
       "      <td>5548.0</td>\n",
       "      <td>0</td>\n",
       "      <td>4249.78</td>\n",
       "      <td>4249.78</td>\n",
       "      <td>938.86</td>\n",
       "      <td>0</td>\n",
       "      <td>938.86</td>\n",
       "      <td>0.0</td>\n",
       "      <td>...</td>\n",
       "      <td>1</td>\n",
       "      <td>4.0</td>\n",
       "      <td>5</td>\n",
       "      <td>1</td>\n",
       "      <td>0</td>\n",
       "      <td>5000.0</td>\n",
       "      <td>0</td>\n",
       "      <td>0</td>\n",
       "      <td>49000.0</td>\n",
       "      <td>0.0</td>\n",
       "    </tr>\n",
       "    <tr>\n",
       "      <th>1</th>\n",
       "      <td>9000.0</td>\n",
       "      <td>0</td>\n",
       "      <td>16560.0</td>\n",
       "      <td>1</td>\n",
       "      <td>7688.81</td>\n",
       "      <td>7688.81</td>\n",
       "      <td>1744.39</td>\n",
       "      <td>0</td>\n",
       "      <td>1744.39</td>\n",
       "      <td>0.0</td>\n",
       "      <td>...</td>\n",
       "      <td>1</td>\n",
       "      <td>3.0</td>\n",
       "      <td>5</td>\n",
       "      <td>2</td>\n",
       "      <td>0</td>\n",
       "      <td>9000.0</td>\n",
       "      <td>0</td>\n",
       "      <td>0</td>\n",
       "      <td>172000.0</td>\n",
       "      <td>0.0</td>\n",
       "    </tr>\n",
       "    <tr>\n",
       "      <th>2</th>\n",
       "      <td>10150.0</td>\n",
       "      <td>0</td>\n",
       "      <td>21845.0</td>\n",
       "      <td>1</td>\n",
       "      <td>8607.20</td>\n",
       "      <td>8607.20</td>\n",
       "      <td>1878.95</td>\n",
       "      <td>0</td>\n",
       "      <td>1878.95</td>\n",
       "      <td>0.0</td>\n",
       "      <td>...</td>\n",
       "      <td>0</td>\n",
       "      <td>8.0</td>\n",
       "      <td>1</td>\n",
       "      <td>2</td>\n",
       "      <td>0</td>\n",
       "      <td>10150.0</td>\n",
       "      <td>0</td>\n",
       "      <td>0</td>\n",
       "      <td>50000.0</td>\n",
       "      <td>0.0</td>\n",
       "    </tr>\n",
       "    <tr>\n",
       "      <th>3</th>\n",
       "      <td>4700.0</td>\n",
       "      <td>0</td>\n",
       "      <td>3919.0</td>\n",
       "      <td>1</td>\n",
       "      <td>4063.57</td>\n",
       "      <td>4063.57</td>\n",
       "      <td>982.97</td>\n",
       "      <td>0</td>\n",
       "      <td>982.97</td>\n",
       "      <td>0.0</td>\n",
       "      <td>...</td>\n",
       "      <td>2</td>\n",
       "      <td>10.0</td>\n",
       "      <td>1</td>\n",
       "      <td>2</td>\n",
       "      <td>0</td>\n",
       "      <td>4700.0</td>\n",
       "      <td>0</td>\n",
       "      <td>0</td>\n",
       "      <td>100046.0</td>\n",
       "      <td>0.0</td>\n",
       "    </tr>\n",
       "    <tr>\n",
       "      <th>4</th>\n",
       "      <td>20000.0</td>\n",
       "      <td>0</td>\n",
       "      <td>16206.0</td>\n",
       "      <td>1</td>\n",
       "      <td>16999.20</td>\n",
       "      <td>16999.20</td>\n",
       "      <td>3755.39</td>\n",
       "      <td>0</td>\n",
       "      <td>3755.39</td>\n",
       "      <td>0.0</td>\n",
       "      <td>...</td>\n",
       "      <td>1</td>\n",
       "      <td>10.0</td>\n",
       "      <td>1</td>\n",
       "      <td>2</td>\n",
       "      <td>0</td>\n",
       "      <td>20000.0</td>\n",
       "      <td>0</td>\n",
       "      <td>0</td>\n",
       "      <td>100000.0</td>\n",
       "      <td>0.0</td>\n",
       "    </tr>\n",
       "  </tbody>\n",
       "</table>\n",
       "<p>5 rows × 33 columns</p>\n",
       "</div>"
      ],
      "text/plain": [
       "   loan_amnt  hardship_flag  revol_bal  initial_list_status  out_prncp  \\\n",
       "0     5000.0              0     5548.0                    0    4249.78   \n",
       "1     9000.0              0    16560.0                    1    7688.81   \n",
       "2    10150.0              0    21845.0                    1    8607.20   \n",
       "3     4700.0              0     3919.0                    1    4063.57   \n",
       "4    20000.0              0    16206.0                    1   16999.20   \n",
       "\n",
       "   out_prncp_inv  total_pymnt  disbursement_method  total_pymnt_inv  \\\n",
       "0        4249.78       938.86                    0           938.86   \n",
       "1        7688.81      1744.39                    0          1744.39   \n",
       "2        8607.20      1878.95                    0          1878.95   \n",
       "3        4063.57       982.97                    0           982.97   \n",
       "4       16999.20      3755.39                    0          3755.39   \n",
       "\n",
       "   total_rec_late_fee         ...          grade  emp_length  home_ownership  \\\n",
       "0                 0.0         ...              1         4.0               5   \n",
       "1                 0.0         ...              1         3.0               5   \n",
       "2                 0.0         ...              0         8.0               1   \n",
       "3                 0.0         ...              2        10.0               1   \n",
       "4                 0.0         ...              1        10.0               1   \n",
       "\n",
       "   purpose  issue_d  funded_amnt_inv  pymnt_plan  debt_settlement_flag  \\\n",
       "0        1        0           5000.0           0                     0   \n",
       "1        2        0           9000.0           0                     0   \n",
       "2        2        0          10150.0           0                     0   \n",
       "3        2        0           4700.0           0                     0   \n",
       "4        2        0          20000.0           0                     0   \n",
       "\n",
       "   annual_inc  last_credit_pull_d  \n",
       "0     49000.0                 0.0  \n",
       "1    172000.0                 0.0  \n",
       "2     50000.0                 0.0  \n",
       "3    100046.0                 0.0  \n",
       "4    100000.0                 0.0  \n",
       "\n",
       "[5 rows x 33 columns]"
      ]
     },
     "execution_count": 98,
     "metadata": {},
     "output_type": "execute_result"
    }
   ],
   "source": [
    "cols_to_encode = types_of_columns(loan_feat)[0]\n",
    "\n",
    "for col in range(0,len(cols_to_encode)):\n",
    "    col_name = cols_to_encode.index[col]\n",
    "    loan_feat[col_name]=l_encoder.fit_transform(loan_feat[col_name])\n",
    "loan_feat.head()"
   ]
  },
  {
   "cell_type": "code",
   "execution_count": 99,
   "metadata": {},
   "outputs": [
    {
     "data": {
      "text/plain": [
       "loan_amnt                  float64\n",
       "revol_bal                  float64\n",
       "out_prncp                  float64\n",
       "out_prncp_inv              float64\n",
       "total_pymnt                float64\n",
       "total_pymnt_inv            float64\n",
       "total_rec_late_fee         float64\n",
       "recoveries                 float64\n",
       "collection_recovery_fee    float64\n",
       "last_pymnt_amnt            float64\n",
       "policy_code                float64\n",
       "total_rec_int              float64\n",
       "total_rec_prncp            float64\n",
       "funded_amnt                float64\n",
       "installment                float64\n",
       "funded_amnt_inv            float64\n",
       "annual_inc                 float64\n",
       "dtype: object"
      ]
     },
     "execution_count": 99,
     "metadata": {},
     "output_type": "execute_result"
    }
   ],
   "source": [
    "col_types_original[1]"
   ]
  },
  {
   "cell_type": "code",
   "execution_count": 100,
   "metadata": {},
   "outputs": [
    {
     "name": "stdout",
     "output_type": "stream",
     "text": [
      "loan_amnt 1474\n",
      "revol_bal 40760\n",
      "out_prncp 32493\n",
      "out_prncp_inv 33799\n",
      "total_pymnt 92016\n",
      "total_pymnt_inv 90026\n",
      "total_rec_late_fee 2827\n",
      "recoveries 4976\n",
      "collection_recovery_fee 2889\n",
      "last_pymnt_amnt 56056\n",
      "policy_code 1\n",
      "total_rec_int 81281\n",
      "total_rec_prncp 39374\n",
      "funded_amnt 1479\n",
      "installment 25902\n",
      "funded_amnt_inv 9484\n",
      "annual_inc 11035\n"
     ]
    }
   ],
   "source": [
    "for i in range(0,len (col_types_original[1])):\n",
    "    col = col_types_original[1].index[i]\n",
    "    length = len(loan_feat[col].unique())\n",
    "    print (col, length)"
   ]
  },
  {
   "cell_type": "code",
   "execution_count": 89,
   "metadata": {},
   "outputs": [
    {
     "ename": "ValueError",
     "evalue": "labels ['policy_code'] not contained in axis",
     "output_type": "error",
     "traceback": [
      "\u001b[0;31m---------------------------------------------------------------------------\u001b[0m",
      "\u001b[0;31mValueError\u001b[0m                                Traceback (most recent call last)",
      "\u001b[0;32m<ipython-input-89-9d9602ac1e70>\u001b[0m in \u001b[0;36m<module>\u001b[0;34m()\u001b[0m\n\u001b[0;32m----> 1\u001b[0;31m \u001b[0mloan_feat\u001b[0m \u001b[0;34m=\u001b[0m \u001b[0mloan_feat\u001b[0m\u001b[0;34m.\u001b[0m\u001b[0mdrop\u001b[0m\u001b[0;34m(\u001b[0m\u001b[0;34m[\u001b[0m\u001b[0;34m\"policy_code\"\u001b[0m\u001b[0;34m]\u001b[0m\u001b[0;34m,\u001b[0m \u001b[0maxis\u001b[0m \u001b[0;34m=\u001b[0m\u001b[0;36m1\u001b[0m\u001b[0;34m)\u001b[0m\u001b[0;34m\u001b[0m\u001b[0m\n\u001b[0m",
      "\u001b[0;32m~/anaconda/lib/python3.6/site-packages/pandas/core/generic.py\u001b[0m in \u001b[0;36mdrop\u001b[0;34m(self, labels, axis, level, inplace, errors)\u001b[0m\n\u001b[1;32m   2159\u001b[0m                 \u001b[0mnew_axis\u001b[0m \u001b[0;34m=\u001b[0m \u001b[0maxis\u001b[0m\u001b[0;34m.\u001b[0m\u001b[0mdrop\u001b[0m\u001b[0;34m(\u001b[0m\u001b[0mlabels\u001b[0m\u001b[0;34m,\u001b[0m \u001b[0mlevel\u001b[0m\u001b[0;34m=\u001b[0m\u001b[0mlevel\u001b[0m\u001b[0;34m,\u001b[0m \u001b[0merrors\u001b[0m\u001b[0;34m=\u001b[0m\u001b[0merrors\u001b[0m\u001b[0;34m)\u001b[0m\u001b[0;34m\u001b[0m\u001b[0m\n\u001b[1;32m   2160\u001b[0m             \u001b[0;32melse\u001b[0m\u001b[0;34m:\u001b[0m\u001b[0;34m\u001b[0m\u001b[0m\n\u001b[0;32m-> 2161\u001b[0;31m                 \u001b[0mnew_axis\u001b[0m \u001b[0;34m=\u001b[0m \u001b[0maxis\u001b[0m\u001b[0;34m.\u001b[0m\u001b[0mdrop\u001b[0m\u001b[0;34m(\u001b[0m\u001b[0mlabels\u001b[0m\u001b[0;34m,\u001b[0m \u001b[0merrors\u001b[0m\u001b[0;34m=\u001b[0m\u001b[0merrors\u001b[0m\u001b[0;34m)\u001b[0m\u001b[0;34m\u001b[0m\u001b[0m\n\u001b[0m\u001b[1;32m   2162\u001b[0m             \u001b[0mdropped\u001b[0m \u001b[0;34m=\u001b[0m \u001b[0mself\u001b[0m\u001b[0;34m.\u001b[0m\u001b[0mreindex\u001b[0m\u001b[0;34m(\u001b[0m\u001b[0;34m**\u001b[0m\u001b[0;34m{\u001b[0m\u001b[0maxis_name\u001b[0m\u001b[0;34m:\u001b[0m \u001b[0mnew_axis\u001b[0m\u001b[0;34m}\u001b[0m\u001b[0;34m)\u001b[0m\u001b[0;34m\u001b[0m\u001b[0m\n\u001b[1;32m   2163\u001b[0m             \u001b[0;32mtry\u001b[0m\u001b[0;34m:\u001b[0m\u001b[0;34m\u001b[0m\u001b[0m\n",
      "\u001b[0;32m~/anaconda/lib/python3.6/site-packages/pandas/core/indexes/base.py\u001b[0m in \u001b[0;36mdrop\u001b[0;34m(self, labels, errors)\u001b[0m\n\u001b[1;32m   3622\u001b[0m             \u001b[0;32mif\u001b[0m \u001b[0merrors\u001b[0m \u001b[0;34m!=\u001b[0m \u001b[0;34m'ignore'\u001b[0m\u001b[0;34m:\u001b[0m\u001b[0;34m\u001b[0m\u001b[0m\n\u001b[1;32m   3623\u001b[0m                 raise ValueError('labels %s not contained in axis' %\n\u001b[0;32m-> 3624\u001b[0;31m                                  labels[mask])\n\u001b[0m\u001b[1;32m   3625\u001b[0m             \u001b[0mindexer\u001b[0m \u001b[0;34m=\u001b[0m \u001b[0mindexer\u001b[0m\u001b[0;34m[\u001b[0m\u001b[0;34m~\u001b[0m\u001b[0mmask\u001b[0m\u001b[0;34m]\u001b[0m\u001b[0;34m\u001b[0m\u001b[0m\n\u001b[1;32m   3626\u001b[0m         \u001b[0;32mreturn\u001b[0m \u001b[0mself\u001b[0m\u001b[0;34m.\u001b[0m\u001b[0mdelete\u001b[0m\u001b[0;34m(\u001b[0m\u001b[0mindexer\u001b[0m\u001b[0;34m)\u001b[0m\u001b[0;34m\u001b[0m\u001b[0m\n",
      "\u001b[0;31mValueError\u001b[0m: labels ['policy_code'] not contained in axis"
     ]
    }
   ],
   "source": [
    "loan_feat = loan_feat.drop([\"policy_code\"], axis =1)"
   ]
  },
  {
   "cell_type": "code",
   "execution_count": 90,
   "metadata": {},
   "outputs": [],
   "source": [
    "col_list = list(col_types_original[1].index)\n",
    "col_list.remove(\"policy_code\")\n",
    "\n",
    "cor_df = pd.DataFrame()\n",
    "for i in range(0,len(col_list)):\n",
    "    #col = col_list[i]\n",
    "    cor_df = pd.concat([cor_df, loan_feat[col_list[i]]],axis=1)\n",
    "    "
   ]
  },
  {
   "cell_type": "code",
   "execution_count": 85,
   "metadata": {},
   "outputs": [
    {
     "data": {
      "text/plain": [
       "<matplotlib.axes._subplots.AxesSubplot at 0x10e6c7780>"
      ]
     },
     "execution_count": 85,
     "metadata": {},
     "output_type": "execute_result"
    },
    {
     "data": {
      "image/png": "[encoded data removed]",
      "text/plain": [
       "<matplotlib.figure.Figure at 0x10e7af278>"
      ]
     },
     "metadata": {},
     "output_type": "display_data"
    }
   ],
   "source": [
    "import seaborn as sns\n",
    "import numpy as np\n",
    "import matplotlib.pyplot as pl\n",
    "%matplotlib inline\n",
    "f, ax = pl.subplots(figsize=(10, 8))\n",
    "corr = cor_df.corr()\n",
    "sns.heatmap(corr, mask=np.zeros_like(corr, dtype=np.bool), cmap=sns.diverging_palette(220, 10, as_cmap=True),\n",
    "            square=True, ax=ax)\n",
    "\n",
    "#sns.heatmap(corr)"
   ]
  },
  {
   "cell_type": "code",
   "execution_count": 104,
   "metadata": {},
   "outputs": [
    {
     "data": {
      "text/plain": [
       "array([[<matplotlib.axes._subplots.AxesSubplot object at 0x10e779908>,\n",
       "        <matplotlib.axes._subplots.AxesSubplot object at 0x1137d65f8>,\n",
       "        <matplotlib.axes._subplots.AxesSubplot object at 0x11bba0b00>,\n",
       "        <matplotlib.axes._subplots.AxesSubplot object at 0x1136671d0>,\n",
       "        <matplotlib.axes._subplots.AxesSubplot object at 0x11ba6be48>,\n",
       "        <matplotlib.axes._subplots.AxesSubplot object at 0x11ba6be80>,\n",
       "        <matplotlib.axes._subplots.AxesSubplot object at 0x11ea3b940>,\n",
       "        <matplotlib.axes._subplots.AxesSubplot object at 0x11ea52908>,\n",
       "        <matplotlib.axes._subplots.AxesSubplot object at 0x110a0bf98>,\n",
       "        <matplotlib.axes._subplots.AxesSubplot object at 0x110a1dc50>,\n",
       "        <matplotlib.axes._subplots.AxesSubplot object at 0x111eaddd8>,\n",
       "        <matplotlib.axes._subplots.AxesSubplot object at 0x1135fc6a0>,\n",
       "        <matplotlib.axes._subplots.AxesSubplot object at 0x1136a6cf8>,\n",
       "        <matplotlib.axes._subplots.AxesSubplot object at 0x1137100b8>,\n",
       "        <matplotlib.axes._subplots.AxesSubplot object at 0x113782d30>,\n",
       "        <matplotlib.axes._subplots.AxesSubplot object at 0x11397a6a0>],\n",
       "       [<matplotlib.axes._subplots.AxesSubplot object at 0x113bbaa90>,\n",
       "        <matplotlib.axes._subplots.AxesSubplot object at 0x114091fd0>,\n",
       "        <matplotlib.axes._subplots.AxesSubplot object at 0x1151335c0>,\n",
       "        <matplotlib.axes._subplots.AxesSubplot object at 0x1151eae10>,\n",
       "        <matplotlib.axes._subplots.AxesSubplot object at 0x113671fd0>,\n",
       "        <matplotlib.axes._subplots.AxesSubplot object at 0x11529ec88>,\n",
       "        <matplotlib.axes._subplots.AxesSubplot object at 0x1152ff438>,\n",
       "        <matplotlib.axes._subplots.AxesSubplot object at 0x119feb9b0>,\n",
       "        <matplotlib.axes._subplots.AxesSubplot object at 0x11a04ae10>,\n",
       "        <matplotlib.axes._subplots.AxesSubplot object at 0x11a0c7ac8>,\n",
       "        <matplotlib.axes._subplots.AxesSubplot object at 0x11a12d438>,\n",
       "        <matplotlib.axes._subplots.AxesSubplot object at 0x11a169828>,\n",
       "        <matplotlib.axes._subplots.AxesSubplot object at 0x11a1f2d68>,\n",
       "        <matplotlib.axes._subplots.AxesSubplot object at 0x11a207668>,\n",
       "        <matplotlib.axes._subplots.AxesSubplot object at 0x11a2c3ba8>,\n",
       "        <matplotlib.axes._subplots.AxesSubplot object at 0x11a3252b0>],\n",
       "       [<matplotlib.axes._subplots.AxesSubplot object at 0x11a38e9e8>,\n",
       "        <matplotlib.axes._subplots.AxesSubplot object at 0x11a3efc88>,\n",
       "        <matplotlib.axes._subplots.AxesSubplot object at 0x11a46ba58>,\n",
       "        <matplotlib.axes._subplots.AxesSubplot object at 0x11a4d42b0>,\n",
       "        <matplotlib.axes._subplots.AxesSubplot object at 0x11a50e6a0>,\n",
       "        <matplotlib.axes._subplots.AxesSubplot object at 0x11a599be0>,\n",
       "        <matplotlib.axes._subplots.AxesSubplot object at 0x11a5abfd0>,\n",
       "        <matplotlib.axes._subplots.AxesSubplot object at 0x11a666940>,\n",
       "        <matplotlib.axes._subplots.AxesSubplot object at 0x11a0de860>,\n",
       "        <matplotlib.axes._subplots.AxesSubplot object at 0x11a71fac8>,\n",
       "        <matplotlib.axes._subplots.AxesSubplot object at 0x11a77e278>,\n",
       "        <matplotlib.axes._subplots.AxesSubplot object at 0x11a7ec7b8>,\n",
       "        <matplotlib.axes._subplots.AxesSubplot object at 0x11a84cc50>,\n",
       "        <matplotlib.axes._subplots.AxesSubplot object at 0x11a8c9a20>,\n",
       "        <matplotlib.axes._subplots.AxesSubplot object at 0x11a92d278>,\n",
       "        <matplotlib.axes._subplots.AxesSubplot object at 0x11a96a668>],\n",
       "       [<matplotlib.axes._subplots.AxesSubplot object at 0x11a9f4a90>,\n",
       "        <matplotlib.axes._subplots.AxesSubplot object at 0x11aa08d68>,\n",
       "        <matplotlib.axes._subplots.AxesSubplot object at 0x11aac17f0>,\n",
       "        <matplotlib.axes._subplots.AxesSubplot object at 0x11ab260f0>,\n",
       "        <matplotlib.axes._subplots.AxesSubplot object at 0x11ab90630>,\n",
       "        <matplotlib.axes._subplots.AxesSubplot object at 0x11abefac8>,\n",
       "        <matplotlib.axes._subplots.AxesSubplot object at 0x11ac6c780>,\n",
       "        <matplotlib.axes._subplots.AxesSubplot object at 0x11accdfd0>,\n",
       "        <matplotlib.axes._subplots.AxesSubplot object at 0x11ad0f2e8>,\n",
       "        <matplotlib.axes._subplots.AxesSubplot object at 0x11ad9a898>,\n",
       "        <matplotlib.axes._subplots.AxesSubplot object at 0x11ad027b8>,\n",
       "        <matplotlib.axes._subplots.AxesSubplot object at 0x11b2e86d8>,\n",
       "        <matplotlib.axes._subplots.AxesSubplot object at 0x11b342e48>,\n",
       "        <matplotlib.axes._subplots.AxesSubplot object at 0x11b3b5518>,\n",
       "        <matplotlib.axes._subplots.AxesSubplot object at 0x11b416860>,\n",
       "        <matplotlib.axes._subplots.AxesSubplot object at 0x11b491438>],\n",
       "       [<matplotlib.axes._subplots.AxesSubplot object at 0x11b4f1d68>,\n",
       "        <matplotlib.axes._subplots.AxesSubplot object at 0x11b532080>,\n",
       "        <matplotlib.axes._subplots.AxesSubplot object at 0x11b5a9ba8>,\n",
       "        <matplotlib.axes._subplots.AxesSubplot object at 0x11b5bb588>,\n",
       "        <matplotlib.axes._subplots.AxesSubplot object at 0x11b670978>,\n",
       "        <matplotlib.axes._subplots.AxesSubplot object at 0x11b6d1080>,\n",
       "        <matplotlib.axes._subplots.AxesSubplot object at 0x11b73d710>,\n",
       "        <matplotlib.axes._subplots.AxesSubplot object at 0x11b79da58>,\n",
       "        <matplotlib.axes._subplots.AxesSubplot object at 0x11b819518>,\n",
       "        <matplotlib.axes._subplots.AxesSubplot object at 0x11b878f60>,\n",
       "        <matplotlib.axes._subplots.AxesSubplot object at 0x11b8bd278>,\n",
       "        <matplotlib.axes._subplots.AxesSubplot object at 0x11b946828>,\n",
       "        <matplotlib.axes._subplots.AxesSubplot object at 0x11b8b06d8>,\n",
       "        <matplotlib.axes._subplots.AxesSubplot object at 0x11ba14668>,\n",
       "        <matplotlib.axes._subplots.AxesSubplot object at 0x11bab7dd8>,\n",
       "        <matplotlib.axes._subplots.AxesSubplot object at 0x11bb2b4a8>],\n",
       "       [<matplotlib.axes._subplots.AxesSubplot object at 0x11e2477f0>,\n",
       "        <matplotlib.axes._subplots.AxesSubplot object at 0x11e2c40f0>,\n",
       "        <matplotlib.axes._subplots.AxesSubplot object at 0x11e322c18>,\n",
       "        <matplotlib.axes._subplots.AxesSubplot object at 0x11e35fef0>,\n",
       "        <matplotlib.axes._subplots.AxesSubplot object at 0x11e3f14e0>,\n",
       "        <matplotlib.axes._subplots.AxesSubplot object at 0x11e356390>,\n",
       "        <matplotlib.axes._subplots.AxesSubplot object at 0x11e4bc208>,\n",
       "        <matplotlib.axes._subplots.AxesSubplot object at 0x11e517a90>,\n",
       "        <matplotlib.axes._subplots.AxesSubplot object at 0x11e58d048>,\n",
       "        <matplotlib.axes._subplots.AxesSubplot object at 0x11e5ed4a8>,\n",
       "        <matplotlib.axes._subplots.AxesSubplot object at 0x11e661e48>,\n",
       "        <matplotlib.axes._subplots.AxesSubplot object at 0x11e6c88d0>,\n",
       "        <matplotlib.axes._subplots.AxesSubplot object at 0x11e6d3fd0>,\n",
       "        <matplotlib.axes._subplots.AxesSubplot object at 0x11e795198>,\n",
       "        <matplotlib.axes._subplots.AxesSubplot object at 0x11e7a82e8>,\n",
       "        <matplotlib.axes._subplots.AxesSubplot object at 0x11e85be80>],\n",
       "       [<matplotlib.axes._subplots.AxesSubplot object at 0x11e2dbcc0>,\n",
       "        <matplotlib.axes._subplots.AxesSubplot object at 0x11e91a048>,\n",
       "        <matplotlib.axes._subplots.AxesSubplot object at 0x11fb3ac50>,\n",
       "        <matplotlib.axes._subplots.AxesSubplot object at 0x11fbb0208>,\n",
       "        <matplotlib.axes._subplots.AxesSubplot object at 0x11fc0b940>,\n",
       "        <matplotlib.axes._subplots.AxesSubplot object at 0x11fc7af98>,\n",
       "        <matplotlib.axes._subplots.AxesSubplot object at 0x11fce9f28>,\n",
       "        <matplotlib.axes._subplots.AxesSubplot object at 0x11fd2e518>,\n",
       "        <matplotlib.axes._subplots.AxesSubplot object at 0x11fdba6d8>,\n",
       "        <matplotlib.axes._subplots.AxesSubplot object at 0x11fdcb588>,\n",
       "        <matplotlib.axes._subplots.AxesSubplot object at 0x11fe87518>,\n",
       "        <matplotlib.axes._subplots.AxesSubplot object at 0x11fee0da0>,\n",
       "        <matplotlib.axes._subplots.AxesSubplot object at 0x11ff53358>,\n",
       "        <matplotlib.axes._subplots.AxesSubplot object at 0x11ffb37b8>,\n",
       "        <matplotlib.axes._subplots.AxesSubplot object at 0x120031198>,\n",
       "        <matplotlib.axes._subplots.AxesSubplot object at 0x120090be0>],\n",
       "       [<matplotlib.axes._subplots.AxesSubplot object at 0x1200d3748>,\n",
       "        <matplotlib.axes._subplots.AxesSubplot object at 0x12015e4a8>,\n",
       "        <matplotlib.axes._subplots.AxesSubplot object at 0x120171dd8>,\n",
       "        <matplotlib.axes._subplots.AxesSubplot object at 0x12022b1d0>,\n",
       "        <matplotlib.axes._subplots.AxesSubplot object at 0x120286a58>,\n",
       "        <matplotlib.axes._subplots.AxesSubplot object at 0x1202f0fd0>,\n",
       "        <matplotlib.axes._subplots.AxesSubplot object at 0x120359470>,\n",
       "        <matplotlib.axes._subplots.AxesSubplot object at 0x1203cee10>,\n",
       "        <matplotlib.axes._subplots.AxesSubplot object at 0x120435898>,\n",
       "        <matplotlib.axes._subplots.AxesSubplot object at 0x1204796a0>,\n",
       "        <matplotlib.axes._subplots.AxesSubplot object at 0x120503160>,\n",
       "        <matplotlib.axes._subplots.AxesSubplot object at 0x120517c50>,\n",
       "        <matplotlib.axes._subplots.AxesSubplot object at 0x1205c8e48>,\n",
       "        <matplotlib.axes._subplots.AxesSubplot object at 0x12062b710>,\n",
       "        <matplotlib.axes._subplots.AxesSubplot object at 0x120696c88>,\n",
       "        <matplotlib.axes._subplots.AxesSubplot object at 0x120700128>],\n",
       "       [<matplotlib.axes._subplots.AxesSubplot object at 0x120772ac8>,\n",
       "        <matplotlib.axes._subplots.AxesSubplot object at 0x1207d9550>,\n",
       "        <matplotlib.axes._subplots.AxesSubplot object at 0x12081d240>,\n",
       "        <matplotlib.axes._subplots.AxesSubplot object at 0x12089fcc0>,\n",
       "        <matplotlib.axes._subplots.AxesSubplot object at 0x1208bb860>,\n",
       "        <matplotlib.axes._subplots.AxesSubplot object at 0x12096eb00>,\n",
       "        <matplotlib.axes._subplots.AxesSubplot object at 0x1203f0f28>,\n",
       "        <matplotlib.axes._subplots.AxesSubplot object at 0x120a5fb38>,\n",
       "        <matplotlib.axes._subplots.AxesSubplot object at 0x120ab8a90>,\n",
       "        <matplotlib.axes._subplots.AxesSubplot object at 0x120b2e048>,\n",
       "        <matplotlib.axes._subplots.AxesSubplot object at 0x120b8a780>,\n",
       "        <matplotlib.axes._subplots.AxesSubplot object at 0x120bfadd8>,\n",
       "        <matplotlib.axes._subplots.AxesSubplot object at 0x120c67d68>,\n",
       "        <matplotlib.axes._subplots.AxesSubplot object at 0x120cae780>,\n",
       "        <matplotlib.axes._subplots.AxesSubplot object at 0x120d36630>,\n",
       "        <matplotlib.axes._subplots.AxesSubplot object at 0x120d4b160>],\n",
       "       [<matplotlib.axes._subplots.AxesSubplot object at 0x120e02470>,\n",
       "        <matplotlib.axes._subplots.AxesSubplot object at 0x120e60be0>,\n",
       "        <matplotlib.axes._subplots.AxesSubplot object at 0x120ed32b0>,\n",
       "        <matplotlib.axes._subplots.AxesSubplot object at 0x120f325f8>,\n",
       "        <matplotlib.axes._subplots.AxesSubplot object at 0x120faf0b8>,\n",
       "        <matplotlib.axes._subplots.AxesSubplot object at 0x12100ca20>,\n",
       "        <matplotlib.axes._subplots.AxesSubplot object at 0x121051710>,\n",
       "        <matplotlib.axes._subplots.AxesSubplot object at 0x1210dd1d0>,\n",
       "        <matplotlib.axes._subplots.AxesSubplot object at 0x1210f2d30>,\n",
       "        <matplotlib.axes._subplots.AxesSubplot object at 0x1211a0fd0>,\n",
       "        <matplotlib.axes._subplots.AxesSubplot object at 0x121203898>,\n",
       "        <matplotlib.axes._subplots.AxesSubplot object at 0x12126ee10>,\n",
       "        <matplotlib.axes._subplots.AxesSubplot object at 0x1212d62b0>,\n",
       "        <matplotlib.axes._subplots.AxesSubplot object at 0x12134bc50>,\n",
       "        <matplotlib.axes._subplots.AxesSubplot object at 0x1213b26d8>,\n",
       "        <matplotlib.axes._subplots.AxesSubplot object at 0x1213f73c8>],\n",
       "       [<matplotlib.axes._subplots.AxesSubplot object at 0x121478e48>,\n",
       "        <matplotlib.axes._subplots.AxesSubplot object at 0x1214939b0>,\n",
       "        <matplotlib.axes._subplots.AxesSubplot object at 0x121549c88>,\n",
       "        <matplotlib.axes._subplots.AxesSubplot object at 0x1215a8550>,\n",
       "        <matplotlib.axes._subplots.AxesSubplot object at 0x121614ac8>,\n",
       "        <matplotlib.axes._subplots.AxesSubplot object at 0x121675f28>,\n",
       "        <matplotlib.axes._subplots.AxesSubplot object at 0x1216f0908>,\n",
       "        <matplotlib.axes._subplots.AxesSubplot object at 0x121759390>,\n",
       "        <matplotlib.axes._subplots.AxesSubplot object at 0x12179c080>,\n",
       "        <matplotlib.axes._subplots.AxesSubplot object at 0x12181db00>,\n",
       "        <matplotlib.axes._subplots.AxesSubplot object at 0x121833898>,\n",
       "        <matplotlib.axes._subplots.AxesSubplot object at 0x1218ed940>,\n",
       "        <matplotlib.axes._subplots.AxesSubplot object at 0x12194f208>,\n",
       "        <matplotlib.axes._subplots.AxesSubplot object at 0x1219ba780>,\n",
       "        <matplotlib.axes._subplots.AxesSubplot object at 0x121a1bbe0>,\n",
       "        <matplotlib.axes._subplots.AxesSubplot object at 0x121a955c0>],\n",
       "       [<matplotlib.axes._subplots.AxesSubplot object at 0x121afe048>,\n",
       "        <matplotlib.axes._subplots.AxesSubplot object at 0x121b3bcf8>,\n",
       "        <matplotlib.axes._subplots.AxesSubplot object at 0x121bc37b8>,\n",
       "        <matplotlib.axes._subplots.AxesSubplot object at 0x121bd8080>,\n",
       "        <matplotlib.axes._subplots.AxesSubplot object at 0x121c915f8>,\n",
       "        <matplotlib.axes._subplots.AxesSubplot object at 0x121715908>,\n",
       "        <matplotlib.axes._subplots.AxesSubplot object at 0x121d2af98>,\n",
       "        <matplotlib.axes._subplots.AxesSubplot object at 0x121d8e0f0>,\n",
       "        <matplotlib.axes._subplots.AxesSubplot object at 0x121df7588>,\n",
       "        <matplotlib.axes._subplots.AxesSubplot object at 0x121e59da0>,\n",
       "        <matplotlib.axes._subplots.AxesSubplot object at 0x121ecd438>,\n",
       "        <matplotlib.axes._subplots.AxesSubplot object at 0x121f3d3c8>,\n",
       "        <matplotlib.axes._subplots.AxesSubplot object at 0x121f79da0>,\n",
       "        <matplotlib.axes._subplots.AxesSubplot object at 0x122002c50>,\n",
       "        <matplotlib.axes._subplots.AxesSubplot object at 0x122017f98>,\n",
       "        <matplotlib.axes._subplots.AxesSubplot object at 0x1220d0a90>],\n",
       "       [<matplotlib.axes._subplots.AxesSubplot object at 0x122134240>,\n",
       "        <matplotlib.axes._subplots.AxesSubplot object at 0x12219d8d0>,\n",
       "        <matplotlib.axes._subplots.AxesSubplot object at 0x1221fec18>,\n",
       "        <matplotlib.axes._subplots.AxesSubplot object at 0x12227a6d8>,\n",
       "        <matplotlib.axes._subplots.AxesSubplot object at 0x1222e3080>,\n",
       "        <matplotlib.axes._subplots.AxesSubplot object at 0x12231fd30>,\n",
       "        <matplotlib.axes._subplots.AxesSubplot object at 0x1223a87f0>,\n",
       "        <matplotlib.axes._subplots.AxesSubplot object at 0x1223bc5c0>,\n",
       "        <matplotlib.axes._subplots.AxesSubplot object at 0x122476630>,\n",
       "        <matplotlib.axes._subplots.AxesSubplot object at 0x1224d1eb8>,\n",
       "        <matplotlib.axes._subplots.AxesSubplot object at 0x122544470>,\n",
       "        <matplotlib.axes._subplots.AxesSubplot object at 0x1225a28d0>,\n",
       "        <matplotlib.axes._subplots.AxesSubplot object at 0x12261e2b0>,\n",
       "        <matplotlib.axes._subplots.AxesSubplot object at 0x12267ecf8>,\n",
       "        <matplotlib.axes._subplots.AxesSubplot object at 0x1226c49e8>,\n",
       "        <matplotlib.axes._subplots.AxesSubplot object at 0x12274c4a8>],\n",
       "       [<matplotlib.axes._subplots.AxesSubplot object at 0x1227607f0>,\n",
       "        <matplotlib.axes._subplots.AxesSubplot object at 0x12281d2e8>,\n",
       "        <matplotlib.axes._subplots.AxesSubplot object at 0x122877b70>,\n",
       "        <matplotlib.axes._subplots.AxesSubplot object at 0x1228e9128>,\n",
       "        <matplotlib.axes._subplots.AxesSubplot object at 0x122949588>,\n",
       "        <matplotlib.axes._subplots.AxesSubplot object at 0x1229bdf28>,\n",
       "        <matplotlib.axes._subplots.AxesSubplot object at 0x122a249b0>,\n",
       "        <matplotlib.axes._subplots.AxesSubplot object at 0x122a696a0>,\n",
       "        <matplotlib.axes._subplots.AxesSubplot object at 0x122af5160>,\n",
       "        <matplotlib.axes._subplots.AxesSubplot object at 0x122b07fd0>,\n",
       "        <matplotlib.axes._subplots.AxesSubplot object at 0x122bb8f60>,\n",
       "        <matplotlib.axes._subplots.AxesSubplot object at 0x122c1a828>,\n",
       "        <matplotlib.axes._subplots.AxesSubplot object at 0x122c86da0>,\n",
       "        <matplotlib.axes._subplots.AxesSubplot object at 0x122cf0240>,\n",
       "        <matplotlib.axes._subplots.AxesSubplot object at 0x122d61be0>,\n",
       "        <matplotlib.axes._subplots.AxesSubplot object at 0x122dca668>],\n",
       "       [<matplotlib.axes._subplots.AxesSubplot object at 0x122e0f358>,\n",
       "        <matplotlib.axes._subplots.AxesSubplot object at 0x122e90dd8>,\n",
       "        <matplotlib.axes._subplots.AxesSubplot object at 0x122eab0f0>,\n",
       "        <matplotlib.axes._subplots.AxesSubplot object at 0x122f5dc18>,\n",
       "        <matplotlib.axes._subplots.AxesSubplot object at 0x122fc04e0>,\n",
       "        <matplotlib.axes._subplots.AxesSubplot object at 0x12302ba58>,\n",
       "        <matplotlib.axes._subplots.AxesSubplot object at 0x12308ceb8>,\n",
       "        <matplotlib.axes._subplots.AxesSubplot object at 0x123109898>,\n",
       "        <matplotlib.axes._subplots.AxesSubplot object at 0x123170320>,\n",
       "        <matplotlib.axes._subplots.AxesSubplot object at 0x1231b2080>,\n",
       "        <matplotlib.axes._subplots.AxesSubplot object at 0x123234a90>,\n",
       "        <matplotlib.axes._subplots.AxesSubplot object at 0x12324c5f8>,\n",
       "        <matplotlib.axes._subplots.AxesSubplot object at 0x1233058d0>,\n",
       "        <matplotlib.axes._subplots.AxesSubplot object at 0x123366198>,\n",
       "        <matplotlib.axes._subplots.AxesSubplot object at 0x1233d2710>,\n",
       "        <matplotlib.axes._subplots.AxesSubplot object at 0x122904160>],\n",
       "       [<matplotlib.axes._subplots.AxesSubplot object at 0x12345bcc0>,\n",
       "        <matplotlib.axes._subplots.AxesSubplot object at 0x1234c2128>,\n",
       "        <matplotlib.axes._subplots.AxesSubplot object at 0x12352e978>,\n",
       "        <matplotlib.axes._subplots.AxesSubplot object at 0x12359e630>,\n",
       "        <matplotlib.axes._subplots.AxesSubplot object at 0x1235e3048>,\n",
       "        <matplotlib.axes._subplots.AxesSubplot object at 0x123665eb8>,\n",
       "        <matplotlib.axes._subplots.AxesSubplot object at 0x12367fba8>,\n",
       "        <matplotlib.axes._subplots.AxesSubplot object at 0x123730cf8>,\n",
       "        <matplotlib.axes._subplots.AxesSubplot object at 0x1237954a8>,\n",
       "        <matplotlib.axes._subplots.AxesSubplot object at 0x1237ffb38>,\n",
       "        <matplotlib.axes._subplots.AxesSubplot object at 0x123860e80>,\n",
       "        <matplotlib.axes._subplots.AxesSubplot object at 0x1238dc940>,\n",
       "        <matplotlib.axes._subplots.AxesSubplot object at 0x1239432e8>,\n",
       "        <matplotlib.axes._subplots.AxesSubplot object at 0x123987048>,\n",
       "        <matplotlib.axes._subplots.AxesSubplot object at 0x123a0ba58>,\n",
       "        <matplotlib.axes._subplots.AxesSubplot object at 0x123a1f588>]], dtype=object)"
      ]
     },
     "execution_count": 104,
     "metadata": {},
     "output_type": "execute_result"
    },
    {
     "data": {
      "image/png": "[encoded data removed]",
      "text/plain": [
       "<matplotlib.figure.Figure at 0x110adcc88>"
      ]
     },
     "metadata": {},
     "output_type": "display_data"
    }
   ],
   "source": [
    "from pandas.plotting import scatter_matrix\n",
    "scatter_matrix(cor_df, alpha=0.2, figsize=(6, 6), diagonal='kde')"
   ]
  },
  {
   "cell_type": "code",
   "execution_count": 75,
   "metadata": {},
   "outputs": [
    {
     "name": "stdout",
     "output_type": "stream",
     "text": [
      "['loan_amnt', 'revol_bal', 'out_prncp', 'out_prncp_inv', 'total_pymnt', 'total_pymnt_inv', 'total_rec_late_fee', 'recoveries', 'collection_recovery_fee', 'last_pymnt_amnt', 'total_rec_int', 'total_rec_prncp', 'funded_amnt', 'installment', 'funded_amnt_inv', 'annual_inc']\n"
     ]
    }
   ],
   "source": [
    "col_list[i]"
   ]
  },
  {
   "cell_type": "code",
   "execution_count": null,
   "metadata": {
    "collapsed": true
   },
   "outputs": [],
   "source": []
  },
  {
   "cell_type": "code",
   "execution_count": null,
   "metadata": {
    "collapsed": true
   },
   "outputs": [],
   "source": []
  },
  {
   "cell_type": "code",
   "execution_count": null,
   "metadata": {
    "collapsed": true
   },
   "outputs": [],
   "source": []
  },
  {
   "cell_type": "code",
   "execution_count": null,
   "metadata": {
    "collapsed": true
   },
   "outputs": [],
   "source": []
  },
  {
   "cell_type": "code",
   "execution_count": null,
   "metadata": {
    "collapsed": true
   },
   "outputs": [],
   "source": []
  }
 ],
 "metadata": {
  "kernelspec": {
   "display_name": "Python 3",
   "language": "python",
   "name": "python3"
  },
  "language_info": {
   "codemirror_mode": {
    "name": "ipython",
    "version": 3
   },
   "file_extension": ".py",
   "mimetype": "text/x-python",
   "name": "python",
   "nbconvert_exporter": "python",
   "pygments_lexer": "ipython3",
   "version": "3.6.2"
  }
 },
 "nbformat": 4,
 "nbformat_minor": 2
}
