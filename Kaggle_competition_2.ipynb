{
 "cells": [
  {
   "cell_type": "markdown",
   "metadata": {},
   "source": [
    "# Problem loan prediction 2017 - Lending Club\n",
    "## Testing kaggle model 2 (2007-2015)"
   ]
  },
  {
   "cell_type": "markdown",
   "metadata": {},
   "source": [
    "https://www.kaggle.com/gagrawal/neural-net-with-keras"
   ]
  },
  {
   "cell_type": "code",
   "execution_count": 1,
   "metadata": {},
   "outputs": [
    {
     "name": "stderr",
     "output_type": "stream",
     "text": [
      "Using TensorFlow backend.\n"
     ]
    },
    {
     "name": "stdout",
     "output_type": "stream",
     "text": [
      "1511054328.402983\n"
     ]
    }
   ],
   "source": [
    "import os, sys, re\n",
    "#import cPickle as pickle\n",
    "from keras.models import Sequential\n",
    "from keras.layers import Dense\n",
    "import time\n",
    "import numpy as np\n",
    "import pandas as pd\n",
    "from sklearn.model_selection import train_test_split\n",
    "\n",
    "print (time.time())\n",
    "dataset = pd.read_csv(\"../loan.csv\", low_memory=False)"
   ]
  },
  {
   "cell_type": "code",
   "execution_count": 2,
   "metadata": {
    "collapsed": true
   },
   "outputs": [],
   "source": [
    "dataset = dataset.fillna(0) ## filling missing values with zeros"
   ]
  },
  {
   "cell_type": "code",
   "execution_count": 3,
   "metadata": {
    "collapsed": true
   },
   "outputs": [],
   "source": [
    "dataset['application_type'] = dataset['application_type'].astype('category').cat.codes\n",
    "dataset['addr_state'] = dataset['addr_state'].astype('category').cat.codes\n",
    "dataset['earliest_cr_line'] = pd.to_datetime(dataset['earliest_cr_line'])\n",
    "dataset['earliest_cr_line'] = (dataset['earliest_cr_line']-dataset['earliest_cr_line'].min())/np.timedelta64(1,'D')\n",
    "dataset['emp_length'] = dataset['emp_length'].astype('category').cat.codes\n",
    "dataset['grade'] = dataset['grade'].astype('category').cat.codes\n",
    "dataset['home_ownership'] = dataset['home_ownership'].astype('category').cat.codes\n",
    "dataset['initial_list_status'] = dataset['initial_list_status'].astype('category').cat.codes\n",
    "dataset['issue_d'] = pd.to_datetime(dataset['issue_d'])\n",
    "dataset['issue_d'] = (dataset['issue_d']-dataset['issue_d'].min())/np.timedelta64(1,'D')\n",
    "dataset['last_credit_pull_d'] = pd.to_datetime(dataset['last_credit_pull_d'])\n",
    "dataset['last_credit_pull_d'] = (dataset['last_credit_pull_d']-dataset['last_credit_pull_d'].min())/np.timedelta64(1,'D')\n",
    "dataset['last_pymnt_d'] = pd.to_datetime(dataset['last_pymnt_d'])\n",
    "dataset['last_pymnt_d'] = (dataset['last_pymnt_d']-dataset['last_pymnt_d'].min())/np.timedelta64(1,'D')\n",
    "dataset['loan_status'] = dataset['loan_status'].astype('category').cat.codes\n",
    "dataset['next_pymnt_d'] = pd.to_datetime(dataset['next_pymnt_d'])\n",
    "dataset['next_pymnt_d'] = (dataset['next_pymnt_d']-dataset['next_pymnt_d'].min())/np.timedelta64(1,'D')\n",
    "dataset['purpose'] = dataset['purpose'].astype('category').cat.codes\n",
    "dataset['pymnt_plan'] = dataset['pymnt_plan'].astype('category').cat.codes\n",
    "dataset['sub_grade'] = dataset['sub_grade'].astype('category').cat.codes\n",
    "dataset['term'] = dataset['term'].astype('category').cat.codes\n",
    "dataset['verification_status'] = dataset['verification_status'].astype('category').cat.codes\n",
    "dataset['verification_status_joint'] = dataset['verification_status_joint'].astype('category').cat.codes"
   ]
  },
  {
   "cell_type": "code",
   "execution_count": 4,
   "metadata": {
    "collapsed": true
   },
   "outputs": [],
   "source": [
    "non_numerics = [x for x in dataset.columns\n",
    "if not (dataset[x].dtype == np.float64 or dataset[x].dtype == np.int8 or dataset[x].dtype == np.int64)]"
   ]
  },
  {
   "cell_type": "code",
   "execution_count": 5,
   "metadata": {},
   "outputs": [
    {
     "data": {
      "text/plain": [
       "(887379, 74)"
      ]
     },
     "execution_count": 5,
     "metadata": {},
     "output_type": "execute_result"
    }
   ],
   "source": [
    "dataset.shape"
   ]
  },
  {
   "cell_type": "code",
   "execution_count": 6,
   "metadata": {
    "collapsed": true
   },
   "outputs": [],
   "source": [
    "df = dataset\n",
    "df = df.drop(non_numerics,1)"
   ]
  },
  {
   "cell_type": "code",
   "execution_count": 7,
   "metadata": {
    "collapsed": true
   },
   "outputs": [],
   "source": [
    "def LoanResult(status):\n",
    "    if (status == 5) or (status == 1) or (status == 7):\n",
    "        return 1\n",
    "    else:\n",
    "        return 0\n",
    "\n",
    "df['loan_status'] = df['loan_status'].apply(LoanResult)"
   ]
  },
  {
   "cell_type": "code",
   "execution_count": 8,
   "metadata": {},
   "outputs": [
    {
     "data": {
      "text/plain": [
       "(887379, 69)"
      ]
     },
     "execution_count": 8,
     "metadata": {},
     "output_type": "execute_result"
    }
   ],
   "source": [
    "df.shape"
   ]
  },
  {
   "cell_type": "code",
   "execution_count": 9,
   "metadata": {
    "collapsed": true
   },
   "outputs": [],
   "source": [
    "train, test = train_test_split(df, test_size = 0.25)\n",
    "\n",
    "##running complete data set will take a lot of time, hence reduced the data set\n",
    "X_train = train.drop('loan_status',1).values[0:50000, :]\n",
    "Y_train = train['loan_status'].values[0:50000]\n",
    "\n",
    "X_test = test.drop('loan_status',1).values[0:1000, :]\n",
    "Y_test = test['loan_status'].values[0:1000]\n",
    "\n",
    "X_pred = test.drop('loan_status',1).values[1001:2000, :]"
   ]
  },
  {
   "cell_type": "code",
   "execution_count": 10,
   "metadata": {
    "collapsed": true
   },
   "outputs": [],
   "source": [
    "seed = 8 \n",
    "np.random.seed(seed)"
   ]
  },
  {
   "cell_type": "code",
   "execution_count": 11,
   "metadata": {
    "collapsed": true
   },
   "outputs": [],
   "source": [
    "# Create the model \n",
    "model = Sequential()\n",
    "\n",
    "# Define the three layered model\n",
    "model.add(Dense(110, input_dim = 68, kernel_initializer = \"uniform\", activation = \"relu\"))\n",
    "model.add(Dense(110, kernel_initializer = \"uniform\", activation = \"relu\"))\n",
    "model.add(Dense(1, kernel_initializer = \"uniform\", activation = \"sigmoid\"))"
   ]
  },
  {
   "cell_type": "code",
   "execution_count": 12,
   "metadata": {
    "collapsed": true
   },
   "outputs": [],
   "source": [
    "model.compile(loss=\"binary_crossentropy\", optimizer= \"adam\", metrics=['accuracy'])\n",
    "#"
   ]
  },
  {
   "cell_type": "code",
   "execution_count": 13,
   "metadata": {},
   "outputs": [
    {
     "name": "stdout",
     "output_type": "stream",
     "text": [
      "Epoch 1/20\n",
      "50000/50000 [==============================] - 1s - loss: 1.4195 - acc: 0.9111     \n",
      "Epoch 2/20\n",
      "50000/50000 [==============================] - 1s - loss: 1.2572 - acc: 0.9211     \n",
      "Epoch 3/20\n",
      "50000/50000 [==============================] - 1s - loss: 1.2572 - acc: 0.9211     \n",
      "Epoch 4/20\n",
      "50000/50000 [==============================] - 1s - loss: 1.2572 - acc: 0.9211     \n",
      "Epoch 5/20\n",
      "50000/50000 [==============================] - 1s - loss: 1.2572 - acc: 0.9211     \n",
      "Epoch 6/20\n",
      "50000/50000 [==============================] - 1s - loss: 1.2572 - acc: 0.9211     \n",
      "Epoch 7/20\n",
      "50000/50000 [==============================] - 1s - loss: 1.2572 - acc: 0.9211     \n",
      "Epoch 8/20\n",
      "50000/50000 [==============================] - 1s - loss: 1.2572 - acc: 0.9211     \n",
      "Epoch 9/20\n",
      "50000/50000 [==============================] - 1s - loss: 1.2572 - acc: 0.9211     \n",
      "Epoch 10/20\n",
      "50000/50000 [==============================] - 1s - loss: 1.2572 - acc: 0.9211     \n",
      "Epoch 11/20\n",
      "50000/50000 [==============================] - 1s - loss: 1.2572 - acc: 0.9211     \n",
      "Epoch 12/20\n",
      "50000/50000 [==============================] - 1s - loss: 1.2572 - acc: 0.9211     \n",
      "Epoch 13/20\n",
      "50000/50000 [==============================] - 1s - loss: 1.2572 - acc: 0.9211     \n",
      "Epoch 14/20\n",
      "50000/50000 [==============================] - 1s - loss: 1.2572 - acc: 0.9211     \n",
      "Epoch 15/20\n",
      "50000/50000 [==============================] - 1s - loss: 1.2572 - acc: 0.9211     \n",
      "Epoch 16/20\n",
      "50000/50000 [==============================] - 1s - loss: 1.2572 - acc: 0.9211     \n",
      "Epoch 17/20\n",
      "50000/50000 [==============================] - 1s - loss: 1.2572 - acc: 0.9211     \n",
      "Epoch 18/20\n",
      "50000/50000 [==============================] - 1s - loss: 1.2572 - acc: 0.9211     \n",
      "Epoch 19/20\n",
      "50000/50000 [==============================] - 1s - loss: 1.2572 - acc: 0.9211     \n",
      "Epoch 20/20\n",
      "50000/50000 [==============================] - 1s - loss: 1.2572 - acc: 0.9211     \n"
     ]
    },
    {
     "data": {
      "text/plain": [
       "<keras.callbacks.History at 0x127e846d8>"
      ]
     },
     "execution_count": 13,
     "metadata": {},
     "output_type": "execute_result"
    }
   ],
   "source": [
    "# Fit the model\n",
    "model.fit(X_train, Y_train, epochs= 20, batch_size=200) # Changed the ephocs to 20"
   ]
  },
  {
   "cell_type": "code",
   "execution_count": 14,
   "metadata": {},
   "outputs": [
    {
     "name": "stdout",
     "output_type": "stream",
     "text": [
      "  32/1000 [..............................] - ETA: 1sacc: 93.00%\n"
     ]
    }
   ],
   "source": [
    "performance = model.evaluate(X_test, Y_test)\n",
    "print(\"%s: %.2f%%\" % (model.metrics_names[1], performance[1]*100))"
   ]
  },
  {
   "cell_type": "code",
   "execution_count": 15,
   "metadata": {
    "collapsed": true
   },
   "outputs": [],
   "source": [
    "# Predict using the trained model\n",
    "prediction = model.predict(X_test)\n",
    "prediction = prediction.round()\n",
    "#rounded_predictions = [round(x) for x in prediction]\n",
    "#print(rounded_predictions)"
   ]
  },
  {
   "cell_type": "code",
   "execution_count": 16,
   "metadata": {},
   "outputs": [
    {
     "data": {
      "text/plain": [
       "array([[  0,   0],\n",
       "       [ 70, 930]])"
      ]
     },
     "execution_count": 16,
     "metadata": {},
     "output_type": "execute_result"
    }
   ],
   "source": [
    "from sklearn.metrics import confusion_matrix\n",
    "cnf_matrix = confusion_matrix(prediction, Y_test, labels=[0, 1])\n",
    "cnf_matrix"
   ]
  },
  {
   "cell_type": "code",
   "execution_count": 17,
   "metadata": {
    "collapsed": true
   },
   "outputs": [],
   "source": [
    "import matplotlib.pyplot as pl\n",
    "%matplotlib inline\n",
    "import itertools\n",
    "def plot_confusion_matrix(cm, classes,\n",
    "                          normalize=False,\n",
    "                          title='Confusion matrix',\n",
    "                          cmap=pl.cm.Blues):\n",
    "    \"\"\" FROM SCIKIT LEARN DOCUMENTATION\n",
    "    This function prints and plots the confusion matrix.\n",
    "    Normalization can be applied by setting `normalize=True`.\n",
    "    \"\"\"\n",
    "    if normalize:\n",
    "        cm = cm.astype('float') / cm.sum(axis=1)[:, np.newaxis]\n",
    "        print(\"Normalized confusion matrix\")\n",
    "    else:\n",
    "        print('Confusion matrix, without normalization')\n",
    "    pl.imshow(cm, interpolation='nearest', cmap=cmap)\n",
    "    pl.title(title)\n",
    "    pl.colorbar()\n",
    "    tick_marks = np.arange(len(classes))\n",
    "    pl.xticks(tick_marks, classes, rotation=45)\n",
    "    pl.yticks(tick_marks, classes)\n",
    "\n",
    "    fmt = '.2f' if normalize else 'd'\n",
    "    thresh = cm.max() / 2.\n",
    "    for i, j in itertools.product(range(cm.shape[0]), range(cm.shape[1])):\n",
    "        pl.text(j, i, format(cm[i, j], fmt),\n",
    "                 horizontalalignment=\"center\",\n",
    "                 color=\"white\" if cm[i, j] > thresh else \"black\")\n",
    "\n",
    "    pl.tight_layout()\n",
    "    pl.ylabel('True label')\n",
    "    pl.xlabel('Predicted label')"
   ]
  },
  {
   "cell_type": "code",
   "execution_count": 18,
   "metadata": {
    "scrolled": true
   },
   "outputs": [
    {
     "name": "stdout",
     "output_type": "stream",
     "text": [
      "Confusion matrix, without normalization\n"
     ]
    },
    {
     "data": {
      "image/png": "[encoded data removed]",
      "text/plain": [
       "<matplotlib.figure.Figure at 0x12a2548d0>"
      ]
     },
     "metadata": {},
     "output_type": "display_data"
    }
   ],
   "source": [
    "pl.figure()\n",
    "plot_confusion_matrix(cnf_matrix, classes=[0,1],\n",
    "                      cmap=pl.cm.Reds, normalize=False)"
   ]
  },
  {
   "cell_type": "code",
   "execution_count": 21,
   "metadata": {},
   "outputs": [
    {
     "data": {
      "text/plain": [
       "0.93"
      ]
     },
     "execution_count": 21,
     "metadata": {},
     "output_type": "execute_result"
    }
   ],
   "source": [
    "(930/(930+70))"
   ]
  },
  {
   "cell_type": "code",
   "execution_count": 22,
   "metadata": {},
   "outputs": [
    {
     "data": {
      "text/plain": [
       "[1.1159670553207426, 0.93000000000000005]"
      ]
     },
     "execution_count": 22,
     "metadata": {},
     "output_type": "execute_result"
    }
   ],
   "source": [
    "performance"
   ]
  },
  {
   "cell_type": "code",
   "execution_count": 2,
   "metadata": {},
   "outputs": [
    {
     "name": "stdout",
     "output_type": "stream",
     "text": [
      "Precission 0.9300 and Recall 1.0000, of the proposed ANN on the 2016 dataset\n"
     ]
    }
   ],
   "source": [
    "Precission = 930/(930+70)\n",
    "Recall = 930/(930+0)\n",
    "\n",
    "print (\"Precission {:.4f} and Recall {:.4f}, of the proposed ANN on the 2016 dataset\".format(Precission, Recall))"
   ]
  },
  {
   "cell_type": "code",
   "execution_count": null,
   "metadata": {
    "collapsed": true
   },
   "outputs": [],
   "source": []
  }
 ],
 "metadata": {
  "kernelspec": {
   "display_name": "Python 3",
   "language": "python",
   "name": "python3"
  },
  "language_info": {
   "codemirror_mode": {
    "name": "ipython",
    "version": 3
   },
   "file_extension": ".py",
   "mimetype": "text/x-python",
   "name": "python",
   "nbconvert_exporter": "python",
   "pygments_lexer": "ipython3",
   "version": "3.6.2"
  }
 },
 "nbformat": 4,
 "nbformat_minor": 2
}
