{
 "cells": [
  {
   "cell_type": "markdown",
   "metadata": {},
   "source": [
    "# Problem loan prediction 2017 - Lending Club\n",
    "## Testing kaggle model 1 (2007-2015)"
   ]
  },
  {
   "cell_type": "markdown",
   "metadata": {},
   "source": [
    "https://www.kaggle.com/mina20/building-a-neural-net-to-predict-default/notebook"
   ]
  },
  {
   "cell_type": "code",
   "execution_count": 1,
   "metadata": {
    "collapsed": true
   },
   "outputs": [],
   "source": [
    "#%matplotlib inline\n",
    "import numpy as np\n",
    "import pandas as pd\n",
    "import itertools\n",
    "from sklearn import preprocessing\n",
    "import matplotlib.pyplot as plt\n",
    "from __future__ import absolute_import\n",
    "from __future__ import division\n",
    "from __future__ import print_function\n",
    "import tensorflow as tf\n",
    "from tensorflow.contrib.learn.python.learn import metric_spec\n",
    "from tensorflow.contrib.learn.python.learn.estimators import _sklearn\n",
    "from tensorflow.contrib.learn.python.learn.estimators import estimator\n",
    "from tensorflow.contrib.learn.python.learn.estimators import model_fn\n",
    "from tensorflow.python.framework import ops\n",
    "from tensorflow.python.saved_model import loader\n",
    "from tensorflow.python.saved_model import tag_constants\n",
    "from tensorflow.python.util import compat\n",
    "tf.logging.set_verbosity(tf.logging.FATAL) \n",
    "df = pd.read_csv(\"../loan.csv\", low_memory=False)"
   ]
  },
  {
   "cell_type": "code",
   "execution_count": 2,
   "metadata": {
    "collapsed": true
   },
   "outputs": [],
   "source": [
    "df['Default_Binary'] = int(0)\n",
    "for index, value in df.loan_status.iteritems():\n",
    "    if value == 'Default':\n",
    "        df.set_value(index,'Default_Binary',int(1))\n",
    "    if value == 'Charged Off':\n",
    "        df.set_value(index, 'Default_Binary',int(1))\n",
    "    if value == 'Late (31-120 days)':\n",
    "        df.set_value(index, 'Default_Binary',int(1))    \n",
    "    if value == 'Late (16-30 days)':\n",
    "        df.set_value(index, 'Default_Binary',int(1))\n",
    "    if value == 'Does not meet the credit policy. Status:Charged Off':\n",
    "        df.set_value(index, 'Default_Binary',int(1)) "
   ]
  },
  {
   "cell_type": "code",
   "execution_count": 3,
   "metadata": {
    "collapsed": true
   },
   "outputs": [],
   "source": [
    "df['Purpose_Cat'] = int(0) \n",
    "for index, value in df.purpose.iteritems():\n",
    "    if value == 'debt_consolidation':\n",
    "        df.set_value(index,'Purpose_Cat',int(1))\n",
    "    if value == 'credit_card':\n",
    "        df.set_value(index, 'Purpose_Cat',int(2))\n",
    "    if value == 'home_improvement':\n",
    "        df.set_value(index, 'Purpose_Cat',int(3))    \n",
    "    if value == 'other':\n",
    "        df.set_value(index, 'Purpose_Cat',int(4))    \n",
    "    if value == 'major_purchase':\n",
    "        df.set_value(index,'Purpose_Cat',int(5))\n",
    "    if value == 'small_business':\n",
    "        df.set_value(index, 'Purpose_Cat',int(6))\n",
    "    if value == 'car':\n",
    "        df.set_value(index, 'Purpose_Cat',int(7))    \n",
    "    if value == 'medical':\n",
    "        df.set_value(index, 'Purpose_Cat',int(8))   \n",
    "    if value == 'moving':\n",
    "        df.set_value(index, 'Purpose_Cat',int(9))    \n",
    "    if value == 'vacation':\n",
    "        df.set_value(index,'Purpose_Cat',int(10))\n",
    "    if value == 'house':\n",
    "        df.set_value(index, 'Purpose_Cat',int(11))\n",
    "    if value == 'wedding':\n",
    "        df.set_value(index, 'Purpose_Cat',int(12))    \n",
    "    if value == 'renewable_energy':\n",
    "        df.set_value(index, 'Purpose_Cat',int(13))     \n",
    "    if value == 'educational':\n",
    "        df.set_value(index, 'Purpose_Cat',int(14))  "
   ]
  },
  {
   "cell_type": "code",
   "execution_count": 4,
   "metadata": {},
   "outputs": [
    {
     "name": "stdout",
     "output_type": "stream",
     "text": [
      "0    0.225180\n",
      "1    0.420363\n",
      "2    0.449514\n",
      "3    0.345163\n",
      "4    0.311365\n",
      "Name: int_rate_scaled, dtype: float64\n"
     ]
    }
   ],
   "source": [
    "x = np.array(df.int_rate.values).reshape(-1,1) \n",
    "min_max_scaler = preprocessing.MinMaxScaler()\n",
    "x_scaled = min_max_scaler.fit_transform(x)\n",
    "df['int_rate_scaled'] = pd.DataFrame(x_scaled)\n",
    "print (df.int_rate_scaled[0:5])"
   ]
  },
  {
   "cell_type": "code",
   "execution_count": 5,
   "metadata": {},
   "outputs": [
    {
     "name": "stdout",
     "output_type": "stream",
     "text": [
      "0    0.130435\n",
      "1    0.057971\n",
      "2    0.055072\n",
      "3    0.275362\n",
      "4    0.072464\n",
      "Name: funded_amnt_scaled, dtype: float64\n"
     ]
    }
   ],
   "source": [
    "x = np.array(df.funded_amnt.values).reshape(-1,1) \n",
    "min_max_scaler = preprocessing.MinMaxScaler()\n",
    "x_scaled = min_max_scaler.fit_transform(x)\n",
    "df['funded_amnt_scaled'] = pd.DataFrame(x_scaled)\n",
    "print (df.funded_amnt_scaled[0:5])"
   ]
  },
  {
   "cell_type": "code",
   "execution_count": 6,
   "metadata": {},
   "outputs": [
    {
     "data": {
      "text/plain": [
       "(887379, 78)"
      ]
     },
     "execution_count": 6,
     "metadata": {},
     "output_type": "execute_result"
    }
   ],
   "source": [
    "df.shape"
   ]
  },
  {
   "cell_type": "code",
   "execution_count": 7,
   "metadata": {
    "collapsed": true
   },
   "outputs": [],
   "source": [
    "training_set = df[0:500000] # Train on first 500k rows\n",
    "testing_set = df[500001:849999] # Test on next 350k rows\n",
    "prediction_set = df[850000:] # Predict on final 37k rows\n",
    "\n",
    "COLUMNS = ['Purpose_Cat','funded_amnt_scaled','int_rate_scaled','Default_Binary']          \n",
    "FEATURES = ['Purpose_Cat','funded_amnt_scaled','int_rate_scaled']\n",
    "LABEL = 'Default_Binary'\n",
    "\n",
    "def input_fn(data_set):\n",
    "    feature_cols = {k: tf.constant(data_set[k].values) for k in FEATURES} \n",
    "    labels = tf.constant(data_set[LABEL].values)\n",
    "    return feature_cols, labels"
   ]
  },
  {
   "cell_type": "code",
   "execution_count": 8,
   "metadata": {},
   "outputs": [
    {
     "data": {
      "text/plain": [
       "DNNRegressor(params={'head': <tensorflow.contrib.learn.python.learn.estimators.head._RegressionHead object at 0x1224afc88>, 'hidden_units': [10, 20, 10], 'feature_columns': (_RealValuedColumn(column_name='Purpose_Cat', dimension=1, default_value=None, dtype=tf.float32, normalizer=None), _RealValuedColumn(column_name='funded_amnt_scaled', dimension=1, default_value=None, dtype=tf.float32, normalizer=None), _RealValuedColumn(column_name='int_rate_scaled', dimension=1, default_value=None, dtype=tf.float32, normalizer=None)), 'optimizer': None, 'activation_fn': <function relu at 0x11e6b4378>, 'dropout': None, 'gradient_clip_norm': None, 'embedding_lr_multipliers': None, 'input_layer_min_slice_size': None})"
      ]
     },
     "execution_count": 8,
     "metadata": {},
     "output_type": "execute_result"
    }
   ],
   "source": [
    "feature_cols = [tf.contrib.layers.real_valued_column(k)\n",
    "              for k in FEATURES]\n",
    "#config = tf.contrib.learn.RunConfig(keep_checkpoint_max=1) ######## DO NOT DELETE\n",
    "regressor = tf.contrib.learn.DNNRegressor(\n",
    "  feature_columns=feature_cols, hidden_units=[10, 20, 10], ) \n",
    "regressor.fit(input_fn=lambda: input_fn(training_set), steps=251)"
   ]
  },
  {
   "cell_type": "code",
   "execution_count": 9,
   "metadata": {},
   "outputs": [
    {
     "name": "stdout",
     "output_type": "stream",
     "text": [
      "Loss: 0.025322\n"
     ]
    },
    {
     "data": {
      "text/plain": [
       "0.025322247"
      ]
     },
     "execution_count": 9,
     "metadata": {},
     "output_type": "execute_result"
    }
   ],
   "source": [
    "# Score accuracy\n",
    "ev = regressor.evaluate(input_fn=lambda: input_fn(testing_set), steps=10)\n",
    "loss_score = ev[\"loss\"]\n",
    "print(\"Loss: {0:f}\".format(loss_score))\n",
    "loss_score"
   ]
  },
  {
   "cell_type": "code",
   "execution_count": 10,
   "metadata": {
    "collapsed": true
   },
   "outputs": [],
   "source": [
    "y = regressor.predict(input_fn=lambda: input_fn(prediction_set))\n",
    "predictions = list(itertools.islice(y, 37379))"
   ]
  },
  {
   "cell_type": "code",
   "execution_count": 11,
   "metadata": {
    "collapsed": true
   },
   "outputs": [],
   "source": [
    "original = prediction_set.Default_Binary"
   ]
  },
  {
   "cell_type": "code",
   "execution_count": 12,
   "metadata": {},
   "outputs": [
    {
     "name": "stdout",
     "output_type": "stream",
     "text": [
      "<class 'list'>\n"
     ]
    }
   ],
   "source": [
    "print(type(predictions))"
   ]
  },
  {
   "cell_type": "code",
   "execution_count": 13,
   "metadata": {
    "collapsed": true
   },
   "outputs": [],
   "source": [
    "n_list = []\n",
    "for i in predictions:\n",
    "    a = i>0.5\n",
    "    n_list.append(a)"
   ]
  },
  {
   "cell_type": "code",
   "execution_count": 14,
   "metadata": {},
   "outputs": [
    {
     "data": {
      "text/plain": [
       "array([[35312,     0],\n",
       "       [ 2067,     0]])"
      ]
     },
     "execution_count": 14,
     "metadata": {},
     "output_type": "execute_result"
    }
   ],
   "source": [
    "from sklearn.metrics import confusion_matrix\n",
    "cnf_matrix = confusion_matrix(original, n_list, labels=[0, 1])\n",
    "cnf_matrix"
   ]
  },
  {
   "cell_type": "code",
   "execution_count": 15,
   "metadata": {
    "collapsed": true
   },
   "outputs": [],
   "source": [
    "import matplotlib.pyplot as pl\n",
    "%matplotlib inline\n",
    "import itertools\n",
    "def plot_confusion_matrix(cm, classes,\n",
    "                          normalize=False,\n",
    "                          title='Confusion matrix',\n",
    "                          cmap=pl.cm.Blues):\n",
    "    \"\"\" FROM SCIKIT LEARN DOCUMENTATION\n",
    "    This function prints and plots the confusion matrix.\n",
    "    Normalization can be applied by setting `normalize=True`.\n",
    "    \"\"\"\n",
    "    if normalize:\n",
    "        cm = cm.astype('float') / cm.sum(axis=1)[:, np.newaxis]\n",
    "        print(\"Normalized confusion matrix\")\n",
    "    else:\n",
    "        print('Confusion matrix, without normalization')\n",
    "    pl.imshow(cm, interpolation='nearest', cmap=cmap)\n",
    "    pl.title(title)\n",
    "    pl.colorbar()\n",
    "    tick_marks = np.arange(len(classes))\n",
    "    pl.xticks(tick_marks, classes, rotation=45)\n",
    "    pl.yticks(tick_marks, classes)\n",
    "\n",
    "    fmt = '.2f' if normalize else 'd'\n",
    "    thresh = cm.max() / 2.\n",
    "    for i, j in itertools.product(range(cm.shape[0]), range(cm.shape[1])):\n",
    "        pl.text(j, i, format(cm[i, j], fmt),\n",
    "                 horizontalalignment=\"center\",\n",
    "                 color=\"white\" if cm[i, j] > thresh else \"black\")\n",
    "\n",
    "    pl.tight_layout()\n",
    "    pl.ylabel('True label')\n",
    "    pl.xlabel('Predicted label')"
   ]
  },
  {
   "cell_type": "code",
   "execution_count": 16,
   "metadata": {},
   "outputs": [
    {
     "name": "stdout",
     "output_type": "stream",
     "text": [
      "Confusion matrix, without normalization\n"
     ]
    },
    {
     "data": {
      "image/png": "[encoded data removed]",
      "text/plain": [
       "<matplotlib.figure.Figure at 0x1224af668>"
      ]
     },
     "metadata": {},
     "output_type": "display_data"
    }
   ],
   "source": [
    "pl.figure()\n",
    "plot_confusion_matrix(cnf_matrix, classes=prediction_set.Default_Binary.unique(),\n",
    "                      cmap=pl.cm.Reds, normalize=False)"
   ]
  },
  {
   "cell_type": "code",
   "execution_count": 17,
   "metadata": {},
   "outputs": [
    {
     "name": "stderr",
     "output_type": "stream",
     "text": [
      "/Users/jpinzon/anaconda/lib/python3.6/site-packages/sklearn/metrics/classification.py:1135: UndefinedMetricWarning: F-score is ill-defined and being set to 0.0 due to no predicted samples.\n",
      "  'precision', 'predicted', average, warn_for)\n"
     ]
    },
    {
     "data": {
      "text/plain": [
       "0.0"
      ]
     },
     "execution_count": 17,
     "metadata": {},
     "output_type": "execute_result"
    }
   ],
   "source": [
    "from sklearn.metrics import f1_score\n",
    "f1_score(original, n_list, average='binary')"
   ]
  },
  {
   "cell_type": "code",
   "execution_count": 18,
   "metadata": {},
   "outputs": [
    {
     "data": {
      "text/plain": [
       "0.9447015704004923"
      ]
     },
     "execution_count": 18,
     "metadata": {},
     "output_type": "execute_result"
    }
   ],
   "source": [
    "(35312/(35312+2067))"
   ]
  },
  {
   "cell_type": "code",
   "execution_count": 19,
   "metadata": {},
   "outputs": [
    {
     "data": {
      "text/plain": [
       "37379"
      ]
     },
     "execution_count": 19,
     "metadata": {},
     "output_type": "execute_result"
    }
   ],
   "source": [
    "35312+2067"
   ]
  },
  {
   "cell_type": "code",
   "execution_count": null,
   "metadata": {
    "collapsed": true
   },
   "outputs": [],
   "source": []
  }
 ],
 "metadata": {
  "kernelspec": {
   "display_name": "Python 3",
   "language": "python",
   "name": "python3"
  },
  "language_info": {
   "codemirror_mode": {
    "name": "ipython",
    "version": 3
   },
   "file_extension": ".py",
   "mimetype": "text/x-python",
   "name": "python",
   "nbconvert_exporter": "python",
   "pygments_lexer": "ipython3",
   "version": "3.6.2"
  }
 },
 "nbformat": 4,
 "nbformat_minor": 2
}
